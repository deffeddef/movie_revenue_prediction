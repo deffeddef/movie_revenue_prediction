{
 "cells": [
  {
   "cell_type": "code",
   "execution_count": 557,
   "metadata": {},
   "outputs": [],
   "source": [
    "import pandas as pd\n",
    "import numpy as np\n",
    "import matplotlib.pyplot as plt\n",
    "import seaborn as sns \n",
    "from sklearn.ensemble import IsolationForest\n",
    "from category_encoders.leave_one_out import LeaveOneOutEncoder\n",
    "from sklearn.model_selection import train_test_split\n",
    "from sklearn.metrics import accuracy_score,log_loss, make_scorer\n",
    "from xgboost import XGBClassifier\n",
    "from skopt import BayesSearchCV\n",
    "\n",
    "import warnings\n",
    "pd.set_option(\"display.max_columns\", 101)"
   ]
  },
  {
   "cell_type": "markdown",
   "metadata": {},
   "source": [
    "# Data Import and a First Glance at the Data"
   ]
  },
  {
   "cell_type": "code",
   "execution_count": 558,
   "metadata": {},
   "outputs": [],
   "source": [
    "df = pd.read_csv(\"train.csv\")"
   ]
  },
  {
   "cell_type": "markdown",
   "metadata": {},
   "source": [
    "We have 2400 rows of data"
   ]
  },
  {
   "cell_type": "code",
   "execution_count": 559,
   "metadata": {},
   "outputs": [
    {
     "data": {
      "text/plain": [
       "2400"
      ]
     },
     "execution_count": 559,
     "metadata": {},
     "output_type": "execute_result"
    }
   ],
   "source": [
    "len(df)"
   ]
  },
  {
   "cell_type": "markdown",
   "metadata": {},
   "source": [
    "Let's take a look which rows have missing values"
   ]
  },
  {
   "cell_type": "code",
   "execution_count": 560,
   "metadata": {},
   "outputs": [
    {
     "data": {
      "text/plain": [
       "title                   2\n",
       "country                 0\n",
       "genres                  0\n",
       "language                0\n",
       "writer_count           94\n",
       "title_adaption          0\n",
       "censor_rating          38\n",
       "release_date            4\n",
       "runtime                 0\n",
       "dvd_release_date       69\n",
       "users_votes             0\n",
       "comments              426\n",
       "likes                 444\n",
       "overall_views         317\n",
       "dislikes              444\n",
       "ratings_imdb            0\n",
       "ratings_tomatoes        0\n",
       "ratings_metacritic      0\n",
       "special_award           0\n",
       "awards_win              0\n",
       "awards_nomination       0\n",
       "revenue_category        0\n",
       "dtype: int64"
      ]
     },
     "execution_count": 560,
     "metadata": {},
     "output_type": "execute_result"
    }
   ],
   "source": [
    "df.isna().sum()"
   ]
  },
  {
   "cell_type": "markdown",
   "metadata": {},
   "source": [
    "I will drop the rows of those columns, that have 5% or less missing values. For the rest I will impute a dedicated placeholder value -1 to denote a missing value."
   ]
  },
  {
   "cell_type": "code",
   "execution_count": 561,
   "metadata": {},
   "outputs": [],
   "source": [
    "df_nonull = df.dropna(subset=['title', 'writer_count', 'censor_rating', 'dvd_release_date'])\n",
    "df_nonull = df_nonull.fillna(-1)"
   ]
  },
  {
   "cell_type": "markdown",
   "metadata": {},
   "source": [
    "All missing values have been dealt with and we are left with 2220 rows. So we have dropped 7.5% of the rows, which is within an acceptable range"
   ]
  },
  {
   "cell_type": "code",
   "execution_count": 562,
   "metadata": {},
   "outputs": [
    {
     "data": {
      "text/plain": [
       "title                 0\n",
       "country               0\n",
       "genres                0\n",
       "language              0\n",
       "writer_count          0\n",
       "title_adaption        0\n",
       "censor_rating         0\n",
       "release_date          0\n",
       "runtime               0\n",
       "dvd_release_date      0\n",
       "users_votes           0\n",
       "comments              0\n",
       "likes                 0\n",
       "overall_views         0\n",
       "dislikes              0\n",
       "ratings_imdb          0\n",
       "ratings_tomatoes      0\n",
       "ratings_metacritic    0\n",
       "special_award         0\n",
       "awards_win            0\n",
       "awards_nomination     0\n",
       "revenue_category      0\n",
       "dtype: int64"
      ]
     },
     "execution_count": 562,
     "metadata": {},
     "output_type": "execute_result"
    }
   ],
   "source": [
    "df_nonull.isna().sum()"
   ]
  },
  {
   "cell_type": "code",
   "execution_count": 563,
   "metadata": {},
   "outputs": [
    {
     "data": {
      "text/plain": [
       "2220"
      ]
     },
     "execution_count": 563,
     "metadata": {},
     "output_type": "execute_result"
    }
   ],
   "source": [
    "len(df_nonull)"
   ]
  },
  {
   "cell_type": "markdown",
   "metadata": {},
   "source": [
    "Let's also take a look at the distribution of our target feature and whether we need to possibly address a class imbalance. Luckily for us our target is quite evenly split roundabout 55/45, so no further is needed here."
   ]
  },
  {
   "cell_type": "code",
   "execution_count": 564,
   "metadata": {},
   "outputs": [
    {
     "data": {
      "text/plain": [
       "High    54.55\n",
       "Low     45.45\n",
       "Name: revenue_category, dtype: float64"
      ]
     },
     "execution_count": 564,
     "metadata": {},
     "output_type": "execute_result"
    }
   ],
   "source": [
    "round(df_nonull['revenue_category'].value_counts(normalize=True)*100, 2)"
   ]
  },
  {
   "cell_type": "code",
   "execution_count": 565,
   "metadata": {},
   "outputs": [
    {
     "data": {
      "text/plain": [
       "<matplotlib.axes._subplots.AxesSubplot at 0x7f61ba7c9828>"
      ]
     },
     "execution_count": 565,
     "metadata": {},
     "output_type": "execute_result"
    },
    {
     "data": {
      "image/png": "[encoded data removed]",
      "text/plain": [
       "<Figure size 432x288 with 1 Axes>"
      ]
     },
     "metadata": {},
     "output_type": "display_data"
    }
   ],
   "source": [
    "sns.set_style('whitegrid') \n",
    "sns.distplot(df_nonull['revenue_category'], kde = False, color ='red', bins = 2) "
   ]
  },
  {
   "cell_type": "markdown",
   "metadata": {},
   "source": [
    "# Preprocessing + Some Feature Engineering"
   ]
  },
  {
   "cell_type": "markdown",
   "metadata": {},
   "source": [
    "Next up, we deconstruct the timestamp into its constituent parts, namely day of the month, weekday name, month and year. We also drop the original timestamp columns."
   ]
  },
  {
   "cell_type": "code",
   "execution_count": 566,
   "metadata": {},
   "outputs": [],
   "source": [
    "def time_decon(df, col):\n",
    "    if df[col].dtype != 'datetime64[ns]':\n",
    "        df[col] = pd.to_datetime(df[col])\n",
    "    df[col+'_day'] = df[col].dt.day\n",
    "    df[col+'_day_name'] = df[col].dt.day_name()\n",
    "    df[col+'_month'] = df[col].dt.month\n",
    "    df[col+'_year'] = df[col].dt.year\n",
    "    return df"
   ]
  },
  {
   "cell_type": "code",
   "execution_count": 567,
   "metadata": {},
   "outputs": [],
   "source": [
    "df_time = time_decon(df_nonull, 'release_date')\n",
    "df_time = time_decon(df_time, 'dvd_release_date')"
   ]
  },
  {
   "cell_type": "code",
   "execution_count": 568,
   "metadata": {},
   "outputs": [],
   "source": [
    "df_time = df_time.drop(['release_date', 'dvd_release_date'], axis=1)"
   ]
  },
  {
   "cell_type": "code",
   "execution_count": 569,
   "metadata": {},
   "outputs": [
    {
     "data": {
      "text/html": [
       "<div>\n",
       "<style scoped>\n",
       "    .dataframe tbody tr th:only-of-type {\n",
       "        vertical-align: middle;\n",
       "    }\n",
       "\n",
       "    .dataframe tbody tr th {\n",
       "        vertical-align: top;\n",
       "    }\n",
       "\n",
       "    .dataframe thead th {\n",
       "        text-align: right;\n",
       "    }\n",
       "</style>\n",
       "<table border=\"1\" class=\"dataframe\">\n",
       "  <thead>\n",
       "    <tr style=\"text-align: right;\">\n",
       "      <th></th>\n",
       "      <th>title</th>\n",
       "      <th>country</th>\n",
       "      <th>genres</th>\n",
       "      <th>language</th>\n",
       "      <th>writer_count</th>\n",
       "      <th>title_adaption</th>\n",
       "      <th>censor_rating</th>\n",
       "      <th>runtime</th>\n",
       "      <th>users_votes</th>\n",
       "      <th>comments</th>\n",
       "      <th>likes</th>\n",
       "      <th>overall_views</th>\n",
       "      <th>dislikes</th>\n",
       "      <th>ratings_imdb</th>\n",
       "      <th>ratings_tomatoes</th>\n",
       "      <th>ratings_metacritic</th>\n",
       "      <th>special_award</th>\n",
       "      <th>awards_win</th>\n",
       "      <th>awards_nomination</th>\n",
       "      <th>revenue_category</th>\n",
       "      <th>release_date_day</th>\n",
       "      <th>release_date_day_name</th>\n",
       "      <th>release_date_month</th>\n",
       "      <th>release_date_year</th>\n",
       "      <th>dvd_release_date_day</th>\n",
       "      <th>dvd_release_date_day_name</th>\n",
       "      <th>dvd_release_date_month</th>\n",
       "      <th>dvd_release_date_year</th>\n",
       "    </tr>\n",
       "  </thead>\n",
       "  <tbody>\n",
       "    <tr>\n",
       "      <th>0</th>\n",
       "      <td>Pooh's Heffalump Movie</td>\n",
       "      <td>USA</td>\n",
       "      <td>Animation, Comedy, Family, Fantasy, Musical, M...</td>\n",
       "      <td>English</td>\n",
       "      <td>3.0</td>\n",
       "      <td>True</td>\n",
       "      <td>G</td>\n",
       "      <td>68 min</td>\n",
       "      <td>5,654</td>\n",
       "      <td>-1.0</td>\n",
       "      <td>-1.0</td>\n",
       "      <td>-1.0</td>\n",
       "      <td>-1.0</td>\n",
       "      <td>6.4/10</td>\n",
       "      <td>80%</td>\n",
       "      <td>64/100</td>\n",
       "      <td>0</td>\n",
       "      <td>0</td>\n",
       "      <td>1</td>\n",
       "      <td>High</td>\n",
       "      <td>11</td>\n",
       "      <td>Friday</td>\n",
       "      <td>2</td>\n",
       "      <td>2005</td>\n",
       "      <td>24</td>\n",
       "      <td>Tuesday</td>\n",
       "      <td>5</td>\n",
       "      <td>2005</td>\n",
       "    </tr>\n",
       "    <tr>\n",
       "      <th>1</th>\n",
       "      <td>Yeh Jawaani Hai Deewani</td>\n",
       "      <td>India</td>\n",
       "      <td>Comedy, Drama, Musical, Romance</td>\n",
       "      <td>Hindi, English, French</td>\n",
       "      <td>2.0</td>\n",
       "      <td>True</td>\n",
       "      <td>Not Rated</td>\n",
       "      <td>160 min</td>\n",
       "      <td>33,860</td>\n",
       "      <td>9.0</td>\n",
       "      <td>124.0</td>\n",
       "      <td>127528.0</td>\n",
       "      <td>12.0</td>\n",
       "      <td>7.1/10</td>\n",
       "      <td>67%</td>\n",
       "      <td>0</td>\n",
       "      <td>0</td>\n",
       "      <td>22</td>\n",
       "      <td>92</td>\n",
       "      <td>Low</td>\n",
       "      <td>31</td>\n",
       "      <td>Friday</td>\n",
       "      <td>5</td>\n",
       "      <td>2013</td>\n",
       "      <td>15</td>\n",
       "      <td>Monday</td>\n",
       "      <td>7</td>\n",
       "      <td>2013</td>\n",
       "    </tr>\n",
       "    <tr>\n",
       "      <th>2</th>\n",
       "      <td>Tae Guk Gi: The Brotherhood of War</td>\n",
       "      <td>South Korea</td>\n",
       "      <td>Action, Drama, War</td>\n",
       "      <td>Korean</td>\n",
       "      <td>4.0</td>\n",
       "      <td>False</td>\n",
       "      <td>R</td>\n",
       "      <td>140 min</td>\n",
       "      <td>35,697</td>\n",
       "      <td>268.0</td>\n",
       "      <td>614.0</td>\n",
       "      <td>351123.0</td>\n",
       "      <td>18.0</td>\n",
       "      <td>8.1/10</td>\n",
       "      <td>80%</td>\n",
       "      <td>64/100</td>\n",
       "      <td>0</td>\n",
       "      <td>12</td>\n",
       "      <td>7</td>\n",
       "      <td>Low</td>\n",
       "      <td>24</td>\n",
       "      <td>Friday</td>\n",
       "      <td>9</td>\n",
       "      <td>2004</td>\n",
       "      <td>15</td>\n",
       "      <td>Tuesday</td>\n",
       "      <td>2</td>\n",
       "      <td>2005</td>\n",
       "    </tr>\n",
       "    <tr>\n",
       "      <th>3</th>\n",
       "      <td>Book of Eli, The</td>\n",
       "      <td>USA</td>\n",
       "      <td>Action, Adventure, Drama, Thriller</td>\n",
       "      <td>English</td>\n",
       "      <td>1.0</td>\n",
       "      <td>False</td>\n",
       "      <td>R</td>\n",
       "      <td>118 min</td>\n",
       "      <td>2,71,524</td>\n",
       "      <td>-1.0</td>\n",
       "      <td>-1.0</td>\n",
       "      <td>-1.0</td>\n",
       "      <td>-1.0</td>\n",
       "      <td>6.9/10</td>\n",
       "      <td>47%</td>\n",
       "      <td>53/100</td>\n",
       "      <td>0</td>\n",
       "      <td>3</td>\n",
       "      <td>16</td>\n",
       "      <td>High</td>\n",
       "      <td>15</td>\n",
       "      <td>Friday</td>\n",
       "      <td>1</td>\n",
       "      <td>2010</td>\n",
       "      <td>15</td>\n",
       "      <td>Tuesday</td>\n",
       "      <td>6</td>\n",
       "      <td>2010</td>\n",
       "    </tr>\n",
       "    <tr>\n",
       "      <th>4</th>\n",
       "      <td>Blind Dating</td>\n",
       "      <td>USA</td>\n",
       "      <td>Comedy, Romance</td>\n",
       "      <td>English</td>\n",
       "      <td>1.0</td>\n",
       "      <td>False</td>\n",
       "      <td>PG-13</td>\n",
       "      <td>95 min</td>\n",
       "      <td>11,251</td>\n",
       "      <td>116.0</td>\n",
       "      <td>693.0</td>\n",
       "      <td>970306.0</td>\n",
       "      <td>36.0</td>\n",
       "      <td>6.1/10</td>\n",
       "      <td>25%</td>\n",
       "      <td>0</td>\n",
       "      <td>0</td>\n",
       "      <td>0</td>\n",
       "      <td>0</td>\n",
       "      <td>Low</td>\n",
       "      <td>26</td>\n",
       "      <td>Thursday</td>\n",
       "      <td>4</td>\n",
       "      <td>2007</td>\n",
       "      <td>5</td>\n",
       "      <td>Tuesday</td>\n",
       "      <td>2</td>\n",
       "      <td>2008</td>\n",
       "    </tr>\n",
       "  </tbody>\n",
       "</table>\n",
       "</div>"
      ],
      "text/plain": [
       "                                 title      country  \\\n",
       "0              Pooh's Heffalump Movie           USA   \n",
       "1             Yeh Jawaani Hai Deewani         India   \n",
       "2  Tae Guk Gi: The Brotherhood of War   South Korea   \n",
       "3                    Book of Eli, The           USA   \n",
       "4                        Blind Dating           USA   \n",
       "\n",
       "                                              genres                language  \\\n",
       "0  Animation, Comedy, Family, Fantasy, Musical, M...                 English   \n",
       "1                    Comedy, Drama, Musical, Romance  Hindi, English, French   \n",
       "2                                 Action, Drama, War                  Korean   \n",
       "3                 Action, Adventure, Drama, Thriller                 English   \n",
       "4                                    Comedy, Romance                 English   \n",
       "\n",
       "   writer_count  title_adaption censor_rating  runtime users_votes  comments  \\\n",
       "0           3.0            True             G   68 min       5,654      -1.0   \n",
       "1           2.0            True     Not Rated  160 min      33,860       9.0   \n",
       "2           4.0           False             R  140 min      35,697     268.0   \n",
       "3           1.0           False             R  118 min    2,71,524      -1.0   \n",
       "4           1.0           False         PG-13   95 min      11,251     116.0   \n",
       "\n",
       "   likes  overall_views  dislikes ratings_imdb ratings_tomatoes  \\\n",
       "0   -1.0           -1.0      -1.0       6.4/10              80%   \n",
       "1  124.0       127528.0      12.0       7.1/10              67%   \n",
       "2  614.0       351123.0      18.0       8.1/10              80%   \n",
       "3   -1.0           -1.0      -1.0       6.9/10              47%   \n",
       "4  693.0       970306.0      36.0       6.1/10              25%   \n",
       "\n",
       "  ratings_metacritic  special_award  awards_win  awards_nomination  \\\n",
       "0             64/100              0           0                  1   \n",
       "1                  0              0          22                 92   \n",
       "2             64/100              0          12                  7   \n",
       "3             53/100              0           3                 16   \n",
       "4                  0              0           0                  0   \n",
       "\n",
       "  revenue_category  release_date_day release_date_day_name  \\\n",
       "0             High                11                Friday   \n",
       "1              Low                31                Friday   \n",
       "2              Low                24                Friday   \n",
       "3             High                15                Friday   \n",
       "4              Low                26              Thursday   \n",
       "\n",
       "   release_date_month  release_date_year  dvd_release_date_day  \\\n",
       "0                   2               2005                    24   \n",
       "1                   5               2013                    15   \n",
       "2                   9               2004                    15   \n",
       "3                   1               2010                    15   \n",
       "4                   4               2007                     5   \n",
       "\n",
       "  dvd_release_date_day_name  dvd_release_date_month  dvd_release_date_year  \n",
       "0                   Tuesday                       5                   2005  \n",
       "1                    Monday                       7                   2013  \n",
       "2                   Tuesday                       2                   2005  \n",
       "3                   Tuesday                       6                   2010  \n",
       "4                   Tuesday                       2                   2008  "
      ]
     },
     "execution_count": 569,
     "metadata": {},
     "output_type": "execute_result"
    }
   ],
   "source": [
    "df_time.head()"
   ]
  },
  {
   "cell_type": "markdown",
   "metadata": {},
   "source": [
    "The genre, language and country columns may sometimes contain more than one value, which is then separated by a comma. I think, it's a good idea to split these several values into seperate columns so that each value has its own column."
   ]
  },
  {
   "cell_type": "code",
   "execution_count": 570,
   "metadata": {},
   "outputs": [],
   "source": [
    "genredf = df_time['genres'].str.split(', ', expand=True)\n",
    "langdf = df_time['language'].str.split(', ', expand=True)\n",
    "countrydf = df_time['country'].str.split(', ', expand=True)"
   ]
  },
  {
   "cell_type": "markdown",
   "metadata": {},
   "source": [
    "We are able to see, that a very few number of films actually have high number of categorical values. So for the sake of dimensionality, let's give each category genre, language and country 3 seperate columns as accounting for every category with an own column, when most of the values will be NaN anyway, will probably not improve the predictive power of the model much and just add unnecessary complexity and training time."
   ]
  },
  {
   "cell_type": "code",
   "execution_count": 571,
   "metadata": {},
   "outputs": [
    {
     "name": "stdout",
     "output_type": "stream",
     "text": [
      "0       0\n",
      "1     274\n",
      "2     906\n",
      "3    1615\n",
      "4    2012\n",
      "5    2161\n",
      "6    2205\n",
      "7    2217\n",
      "dtype: int64\n",
      "0       0\n",
      "1    1359\n",
      "2    1871\n",
      "3    2078\n",
      "4    2152\n",
      "5    2195\n",
      "6    2206\n",
      "7    2212\n",
      "8    2215\n",
      "9    2219\n",
      "dtype: int64\n",
      "0        0\n",
      "1     1361\n",
      "2     1857\n",
      "3     2079\n",
      "4     2159\n",
      "5     2200\n",
      "6     2211\n",
      "7     2212\n",
      "8     2216\n",
      "9     2218\n",
      "10    2218\n",
      "11    2218\n",
      "12    2218\n",
      "13    2218\n",
      "14    2219\n",
      "15    2219\n",
      "16    2219\n",
      "17    2219\n",
      "18    2219\n",
      "dtype: int64\n"
     ]
    }
   ],
   "source": [
    "for df in [genredf, langdf, countrydf]:\n",
    "    print(df.isna().sum())"
   ]
  },
  {
   "cell_type": "code",
   "execution_count": 572,
   "metadata": {},
   "outputs": [],
   "source": [
    "genredf.rename(columns={0:'genre_1', 1:'genre_2', 2:'genre_3'}, inplace=True)\n",
    "genredf = genredf[['genre_1', 'genre_2', 'genre_3']]\n",
    "\n",
    "langdf.rename(columns={0:'lang_1', 1:'lang_2', 2:'lang_3'}, inplace=True)\n",
    "langdf = langdf[['lang_1', 'lang_2', 'lang_3']]\n",
    "\n",
    "countrydf.rename(columns={0:'cnt_1', 1:'cnt_2', 2:'cnt_3'}, inplace=True)\n",
    "countrydf = countrydf[['cnt_1', 'cnt_2', 'cnt_3']]"
   ]
  },
  {
   "cell_type": "code",
   "execution_count": 573,
   "metadata": {},
   "outputs": [],
   "source": [
    "df_cats = pd.concat([df_time, genredf, langdf, countrydf], axis=1)"
   ]
  },
  {
   "cell_type": "code",
   "execution_count": 574,
   "metadata": {},
   "outputs": [],
   "source": [
    "df_cats = df_cats.drop(['genres', 'language', 'country'], axis=1)"
   ]
  },
  {
   "cell_type": "code",
   "execution_count": 575,
   "metadata": {},
   "outputs": [],
   "source": [
    "df_cats = df_cats.fillna('None')"
   ]
  },
  {
   "cell_type": "markdown",
   "metadata": {},
   "source": [
    "Next we have some numeric variables that are represented as strings, so let's clean them and convert as float datatype."
   ]
  },
  {
   "cell_type": "code",
   "execution_count": 576,
   "metadata": {},
   "outputs": [],
   "source": [
    "df_num = df_cats\n",
    "\n",
    "df_num['users_votes'] = df_num['users_votes'].str.replace(r',', '').astype(float)\n",
    "df_num['runtime'] = df_num['runtime'].str.replace(r' min', '').astype(float)\n",
    "df_num['ratings_tomatoes'] = df_num['ratings_tomatoes'].str.replace(r'%', '').astype(float)\n",
    "df_num['ratings_metacritic'] = df_num['ratings_metacritic'].str.split('/').str[0].astype(float)\n",
    "df_num['ratings_imdb'] = df_num['ratings_imdb'].str.split('/').str[0].astype(float)"
   ]
  },
  {
   "cell_type": "code",
   "execution_count": 577,
   "metadata": {},
   "outputs": [
    {
     "data": {
      "text/html": [
       "<div>\n",
       "<style scoped>\n",
       "    .dataframe tbody tr th:only-of-type {\n",
       "        vertical-align: middle;\n",
       "    }\n",
       "\n",
       "    .dataframe tbody tr th {\n",
       "        vertical-align: top;\n",
       "    }\n",
       "\n",
       "    .dataframe thead th {\n",
       "        text-align: right;\n",
       "    }\n",
       "</style>\n",
       "<table border=\"1\" class=\"dataframe\">\n",
       "  <thead>\n",
       "    <tr style=\"text-align: right;\">\n",
       "      <th></th>\n",
       "      <th>title</th>\n",
       "      <th>writer_count</th>\n",
       "      <th>title_adaption</th>\n",
       "      <th>censor_rating</th>\n",
       "      <th>runtime</th>\n",
       "      <th>users_votes</th>\n",
       "      <th>comments</th>\n",
       "      <th>likes</th>\n",
       "      <th>overall_views</th>\n",
       "      <th>dislikes</th>\n",
       "      <th>ratings_imdb</th>\n",
       "      <th>ratings_tomatoes</th>\n",
       "      <th>ratings_metacritic</th>\n",
       "      <th>special_award</th>\n",
       "      <th>awards_win</th>\n",
       "      <th>awards_nomination</th>\n",
       "      <th>revenue_category</th>\n",
       "      <th>release_date_day</th>\n",
       "      <th>release_date_day_name</th>\n",
       "      <th>release_date_month</th>\n",
       "      <th>release_date_year</th>\n",
       "      <th>dvd_release_date_day</th>\n",
       "      <th>dvd_release_date_day_name</th>\n",
       "      <th>dvd_release_date_month</th>\n",
       "      <th>dvd_release_date_year</th>\n",
       "      <th>genre_1</th>\n",
       "      <th>genre_2</th>\n",
       "      <th>genre_3</th>\n",
       "      <th>lang_1</th>\n",
       "      <th>lang_2</th>\n",
       "      <th>lang_3</th>\n",
       "      <th>cnt_1</th>\n",
       "      <th>cnt_2</th>\n",
       "      <th>cnt_3</th>\n",
       "    </tr>\n",
       "  </thead>\n",
       "  <tbody>\n",
       "    <tr>\n",
       "      <th>0</th>\n",
       "      <td>Pooh's Heffalump Movie</td>\n",
       "      <td>3.0</td>\n",
       "      <td>True</td>\n",
       "      <td>G</td>\n",
       "      <td>68.0</td>\n",
       "      <td>5654.0</td>\n",
       "      <td>-1.0</td>\n",
       "      <td>-1.0</td>\n",
       "      <td>-1.0</td>\n",
       "      <td>-1.0</td>\n",
       "      <td>6.4</td>\n",
       "      <td>80.0</td>\n",
       "      <td>64.0</td>\n",
       "      <td>0</td>\n",
       "      <td>0</td>\n",
       "      <td>1</td>\n",
       "      <td>High</td>\n",
       "      <td>11</td>\n",
       "      <td>Friday</td>\n",
       "      <td>2</td>\n",
       "      <td>2005</td>\n",
       "      <td>24</td>\n",
       "      <td>Tuesday</td>\n",
       "      <td>5</td>\n",
       "      <td>2005</td>\n",
       "      <td>Animation</td>\n",
       "      <td>Comedy</td>\n",
       "      <td>Family</td>\n",
       "      <td>English</td>\n",
       "      <td>None</td>\n",
       "      <td>None</td>\n",
       "      <td>USA</td>\n",
       "      <td>None</td>\n",
       "      <td>None</td>\n",
       "    </tr>\n",
       "    <tr>\n",
       "      <th>1</th>\n",
       "      <td>Yeh Jawaani Hai Deewani</td>\n",
       "      <td>2.0</td>\n",
       "      <td>True</td>\n",
       "      <td>Not Rated</td>\n",
       "      <td>160.0</td>\n",
       "      <td>33860.0</td>\n",
       "      <td>9.0</td>\n",
       "      <td>124.0</td>\n",
       "      <td>127528.0</td>\n",
       "      <td>12.0</td>\n",
       "      <td>7.1</td>\n",
       "      <td>67.0</td>\n",
       "      <td>0.0</td>\n",
       "      <td>0</td>\n",
       "      <td>22</td>\n",
       "      <td>92</td>\n",
       "      <td>Low</td>\n",
       "      <td>31</td>\n",
       "      <td>Friday</td>\n",
       "      <td>5</td>\n",
       "      <td>2013</td>\n",
       "      <td>15</td>\n",
       "      <td>Monday</td>\n",
       "      <td>7</td>\n",
       "      <td>2013</td>\n",
       "      <td>Comedy</td>\n",
       "      <td>Drama</td>\n",
       "      <td>Musical</td>\n",
       "      <td>Hindi</td>\n",
       "      <td>English</td>\n",
       "      <td>French</td>\n",
       "      <td>India</td>\n",
       "      <td>None</td>\n",
       "      <td>None</td>\n",
       "    </tr>\n",
       "    <tr>\n",
       "      <th>2</th>\n",
       "      <td>Tae Guk Gi: The Brotherhood of War</td>\n",
       "      <td>4.0</td>\n",
       "      <td>False</td>\n",
       "      <td>R</td>\n",
       "      <td>140.0</td>\n",
       "      <td>35697.0</td>\n",
       "      <td>268.0</td>\n",
       "      <td>614.0</td>\n",
       "      <td>351123.0</td>\n",
       "      <td>18.0</td>\n",
       "      <td>8.1</td>\n",
       "      <td>80.0</td>\n",
       "      <td>64.0</td>\n",
       "      <td>0</td>\n",
       "      <td>12</td>\n",
       "      <td>7</td>\n",
       "      <td>Low</td>\n",
       "      <td>24</td>\n",
       "      <td>Friday</td>\n",
       "      <td>9</td>\n",
       "      <td>2004</td>\n",
       "      <td>15</td>\n",
       "      <td>Tuesday</td>\n",
       "      <td>2</td>\n",
       "      <td>2005</td>\n",
       "      <td>Action</td>\n",
       "      <td>Drama</td>\n",
       "      <td>War</td>\n",
       "      <td>Korean</td>\n",
       "      <td>None</td>\n",
       "      <td>None</td>\n",
       "      <td>South Korea</td>\n",
       "      <td>None</td>\n",
       "      <td>None</td>\n",
       "    </tr>\n",
       "    <tr>\n",
       "      <th>3</th>\n",
       "      <td>Book of Eli, The</td>\n",
       "      <td>1.0</td>\n",
       "      <td>False</td>\n",
       "      <td>R</td>\n",
       "      <td>118.0</td>\n",
       "      <td>271524.0</td>\n",
       "      <td>-1.0</td>\n",
       "      <td>-1.0</td>\n",
       "      <td>-1.0</td>\n",
       "      <td>-1.0</td>\n",
       "      <td>6.9</td>\n",
       "      <td>47.0</td>\n",
       "      <td>53.0</td>\n",
       "      <td>0</td>\n",
       "      <td>3</td>\n",
       "      <td>16</td>\n",
       "      <td>High</td>\n",
       "      <td>15</td>\n",
       "      <td>Friday</td>\n",
       "      <td>1</td>\n",
       "      <td>2010</td>\n",
       "      <td>15</td>\n",
       "      <td>Tuesday</td>\n",
       "      <td>6</td>\n",
       "      <td>2010</td>\n",
       "      <td>Action</td>\n",
       "      <td>Adventure</td>\n",
       "      <td>Drama</td>\n",
       "      <td>English</td>\n",
       "      <td>None</td>\n",
       "      <td>None</td>\n",
       "      <td>USA</td>\n",
       "      <td>None</td>\n",
       "      <td>None</td>\n",
       "    </tr>\n",
       "    <tr>\n",
       "      <th>4</th>\n",
       "      <td>Blind Dating</td>\n",
       "      <td>1.0</td>\n",
       "      <td>False</td>\n",
       "      <td>PG-13</td>\n",
       "      <td>95.0</td>\n",
       "      <td>11251.0</td>\n",
       "      <td>116.0</td>\n",
       "      <td>693.0</td>\n",
       "      <td>970306.0</td>\n",
       "      <td>36.0</td>\n",
       "      <td>6.1</td>\n",
       "      <td>25.0</td>\n",
       "      <td>0.0</td>\n",
       "      <td>0</td>\n",
       "      <td>0</td>\n",
       "      <td>0</td>\n",
       "      <td>Low</td>\n",
       "      <td>26</td>\n",
       "      <td>Thursday</td>\n",
       "      <td>4</td>\n",
       "      <td>2007</td>\n",
       "      <td>5</td>\n",
       "      <td>Tuesday</td>\n",
       "      <td>2</td>\n",
       "      <td>2008</td>\n",
       "      <td>Comedy</td>\n",
       "      <td>Romance</td>\n",
       "      <td>None</td>\n",
       "      <td>English</td>\n",
       "      <td>None</td>\n",
       "      <td>None</td>\n",
       "      <td>USA</td>\n",
       "      <td>None</td>\n",
       "      <td>None</td>\n",
       "    </tr>\n",
       "  </tbody>\n",
       "</table>\n",
       "</div>"
      ],
      "text/plain": [
       "                                 title  writer_count  title_adaption  \\\n",
       "0              Pooh's Heffalump Movie            3.0            True   \n",
       "1             Yeh Jawaani Hai Deewani            2.0            True   \n",
       "2  Tae Guk Gi: The Brotherhood of War            4.0           False   \n",
       "3                    Book of Eli, The            1.0           False   \n",
       "4                        Blind Dating            1.0           False   \n",
       "\n",
       "  censor_rating  runtime  users_votes  comments  likes  overall_views  \\\n",
       "0             G     68.0       5654.0      -1.0   -1.0           -1.0   \n",
       "1     Not Rated    160.0      33860.0       9.0  124.0       127528.0   \n",
       "2             R    140.0      35697.0     268.0  614.0       351123.0   \n",
       "3             R    118.0     271524.0      -1.0   -1.0           -1.0   \n",
       "4         PG-13     95.0      11251.0     116.0  693.0       970306.0   \n",
       "\n",
       "   dislikes  ratings_imdb  ratings_tomatoes  ratings_metacritic  \\\n",
       "0      -1.0           6.4              80.0                64.0   \n",
       "1      12.0           7.1              67.0                 0.0   \n",
       "2      18.0           8.1              80.0                64.0   \n",
       "3      -1.0           6.9              47.0                53.0   \n",
       "4      36.0           6.1              25.0                 0.0   \n",
       "\n",
       "   special_award  awards_win  awards_nomination revenue_category  \\\n",
       "0              0           0                  1             High   \n",
       "1              0          22                 92              Low   \n",
       "2              0          12                  7              Low   \n",
       "3              0           3                 16             High   \n",
       "4              0           0                  0              Low   \n",
       "\n",
       "   release_date_day release_date_day_name  release_date_month  \\\n",
       "0                11                Friday                   2   \n",
       "1                31                Friday                   5   \n",
       "2                24                Friday                   9   \n",
       "3                15                Friday                   1   \n",
       "4                26              Thursday                   4   \n",
       "\n",
       "   release_date_year  dvd_release_date_day dvd_release_date_day_name  \\\n",
       "0               2005                    24                   Tuesday   \n",
       "1               2013                    15                    Monday   \n",
       "2               2004                    15                   Tuesday   \n",
       "3               2010                    15                   Tuesday   \n",
       "4               2007                     5                   Tuesday   \n",
       "\n",
       "   dvd_release_date_month  dvd_release_date_year    genre_1    genre_2  \\\n",
       "0                       5                   2005  Animation     Comedy   \n",
       "1                       7                   2013     Comedy      Drama   \n",
       "2                       2                   2005     Action      Drama   \n",
       "3                       6                   2010     Action  Adventure   \n",
       "4                       2                   2008     Comedy    Romance   \n",
       "\n",
       "   genre_3   lang_1   lang_2  lang_3        cnt_1 cnt_2 cnt_3  \n",
       "0   Family  English     None    None          USA  None  None  \n",
       "1  Musical    Hindi  English  French        India  None  None  \n",
       "2      War   Korean     None    None  South Korea  None  None  \n",
       "3    Drama  English     None    None          USA  None  None  \n",
       "4     None  English     None    None          USA  None  None  "
      ]
     },
     "execution_count": 577,
     "metadata": {},
     "output_type": "execute_result"
    }
   ],
   "source": [
    "df_num.head()"
   ]
  },
  {
   "cell_type": "markdown",
   "metadata": {},
   "source": [
    "# Outlier Detection and Removal"
   ]
  },
  {
   "cell_type": "markdown",
   "metadata": {},
   "source": [
    "Outliers are a tricky topic, because oftentimes a statistical outlier might not be an outlier from a business perspective and vice versa. Outliers can often be valid, uncorrupted data, which simply represents an edge case for a business. Still, outliers can have a negative impact on a model performance, so I have chosen to remove a conservative amount using an algorithmic approach.\n",
    "\n",
    "Please note that Isolation Forest is unsupervised, so applying it on the whole data set will not result in data leakage!"
   ]
  },
  {
   "cell_type": "code",
   "execution_count": 578,
   "metadata": {},
   "outputs": [],
   "source": [
    "def isolation_outlier(df, cols=None):\n",
    "    original_len = len(df)\n",
    "    print('dataset with outliers:', original_len)\n",
    "    isof = IsolationForest(max_samples=1000, contamination=.02)\n",
    "    if cols == None:\n",
    "        isof.fit(df.select_dtypes(include=np.number))\n",
    "        listpred = isof.predict(df.select_dtypes(include=np.number))\n",
    "    else:\n",
    "        isof.fit(df[cols])\n",
    "        listpred = isof.predict(df[cols])\n",
    "    df['outlier'] = listpred\n",
    "    df = df.loc[df['outlier'] == 1]\n",
    "    df.drop('outlier', axis=1, inplace=True)\n",
    "    new_len = len(df)\n",
    "    diff = original_len-new_len\n",
    "    print('dataset without outliers:', new_len)\n",
    "    print('percentage of data removed:', round((diff/original_len)*100, 2),'%' )\n",
    "    return df"
   ]
  },
  {
   "cell_type": "code",
   "execution_count": 579,
   "metadata": {},
   "outputs": [
    {
     "data": {
      "text/html": [
       "<div>\n",
       "<style scoped>\n",
       "    .dataframe tbody tr th:only-of-type {\n",
       "        vertical-align: middle;\n",
       "    }\n",
       "\n",
       "    .dataframe tbody tr th {\n",
       "        vertical-align: top;\n",
       "    }\n",
       "\n",
       "    .dataframe thead th {\n",
       "        text-align: right;\n",
       "    }\n",
       "</style>\n",
       "<table border=\"1\" class=\"dataframe\">\n",
       "  <thead>\n",
       "    <tr style=\"text-align: right;\">\n",
       "      <th></th>\n",
       "      <th>writer_count</th>\n",
       "      <th>runtime</th>\n",
       "      <th>users_votes</th>\n",
       "      <th>comments</th>\n",
       "      <th>likes</th>\n",
       "      <th>overall_views</th>\n",
       "      <th>dislikes</th>\n",
       "      <th>ratings_imdb</th>\n",
       "      <th>ratings_tomatoes</th>\n",
       "      <th>ratings_metacritic</th>\n",
       "      <th>special_award</th>\n",
       "      <th>awards_win</th>\n",
       "      <th>awards_nomination</th>\n",
       "      <th>release_date_day</th>\n",
       "      <th>release_date_month</th>\n",
       "      <th>release_date_year</th>\n",
       "      <th>dvd_release_date_day</th>\n",
       "      <th>dvd_release_date_month</th>\n",
       "      <th>dvd_release_date_year</th>\n",
       "    </tr>\n",
       "  </thead>\n",
       "  <tbody>\n",
       "    <tr>\n",
       "      <th>count</th>\n",
       "      <td>2220.000000</td>\n",
       "      <td>2220.000000</td>\n",
       "      <td>2.220000e+03</td>\n",
       "      <td>2220.000000</td>\n",
       "      <td>2220.000000</td>\n",
       "      <td>2.220000e+03</td>\n",
       "      <td>2220.000000</td>\n",
       "      <td>2220.000000</td>\n",
       "      <td>2220.000000</td>\n",
       "      <td>2220.000000</td>\n",
       "      <td>2220.000000</td>\n",
       "      <td>2220.000000</td>\n",
       "      <td>2220.000000</td>\n",
       "      <td>2220.000000</td>\n",
       "      <td>2220.000000</td>\n",
       "      <td>2220.000000</td>\n",
       "      <td>2220.000000</td>\n",
       "      <td>2220.000000</td>\n",
       "      <td>2220.000000</td>\n",
       "    </tr>\n",
       "    <tr>\n",
       "      <th>mean</th>\n",
       "      <td>2.609009</td>\n",
       "      <td>106.370270</td>\n",
       "      <td>8.891338e+04</td>\n",
       "      <td>467.502703</td>\n",
       "      <td>2642.376577</td>\n",
       "      <td>1.219759e+06</td>\n",
       "      <td>193.773874</td>\n",
       "      <td>6.467432</td>\n",
       "      <td>55.636937</td>\n",
       "      <td>53.577027</td>\n",
       "      <td>0.193694</td>\n",
       "      <td>6.845045</td>\n",
       "      <td>13.322072</td>\n",
       "      <td>16.094144</td>\n",
       "      <td>6.649099</td>\n",
       "      <td>2008.243694</td>\n",
       "      <td>15.850000</td>\n",
       "      <td>6.338739</td>\n",
       "      <td>2008.555405</td>\n",
       "    </tr>\n",
       "    <tr>\n",
       "      <th>std</th>\n",
       "      <td>2.028928</td>\n",
       "      <td>20.747366</td>\n",
       "      <td>1.527421e+05</td>\n",
       "      <td>1972.903775</td>\n",
       "      <td>9601.666650</td>\n",
       "      <td>3.894912e+06</td>\n",
       "      <td>873.259293</td>\n",
       "      <td>0.988564</td>\n",
       "      <td>27.861301</td>\n",
       "      <td>20.369788</td>\n",
       "      <td>0.395281</td>\n",
       "      <td>16.617244</td>\n",
       "      <td>25.720731</td>\n",
       "      <td>8.727442</td>\n",
       "      <td>3.460304</td>\n",
       "      <td>6.349061</td>\n",
       "      <td>8.565814</td>\n",
       "      <td>3.591668</td>\n",
       "      <td>4.129505</td>\n",
       "    </tr>\n",
       "    <tr>\n",
       "      <th>min</th>\n",
       "      <td>1.000000</td>\n",
       "      <td>38.000000</td>\n",
       "      <td>1.430000e+02</td>\n",
       "      <td>-1.000000</td>\n",
       "      <td>-1.000000</td>\n",
       "      <td>-1.000000e+00</td>\n",
       "      <td>-1.000000</td>\n",
       "      <td>1.700000</td>\n",
       "      <td>0.000000</td>\n",
       "      <td>0.000000</td>\n",
       "      <td>0.000000</td>\n",
       "      <td>0.000000</td>\n",
       "      <td>0.000000</td>\n",
       "      <td>1.000000</td>\n",
       "      <td>1.000000</td>\n",
       "      <td>1969.000000</td>\n",
       "      <td>1.000000</td>\n",
       "      <td>1.000000</td>\n",
       "      <td>1986.000000</td>\n",
       "    </tr>\n",
       "    <tr>\n",
       "      <th>25%</th>\n",
       "      <td>1.000000</td>\n",
       "      <td>93.750000</td>\n",
       "      <td>8.950750e+03</td>\n",
       "      <td>1.000000</td>\n",
       "      <td>22.000000</td>\n",
       "      <td>3.295325e+04</td>\n",
       "      <td>2.000000</td>\n",
       "      <td>5.900000</td>\n",
       "      <td>33.000000</td>\n",
       "      <td>41.000000</td>\n",
       "      <td>0.000000</td>\n",
       "      <td>0.000000</td>\n",
       "      <td>1.000000</td>\n",
       "      <td>9.000000</td>\n",
       "      <td>4.000000</td>\n",
       "      <td>2005.000000</td>\n",
       "      <td>8.000000</td>\n",
       "      <td>3.000000</td>\n",
       "      <td>2005.000000</td>\n",
       "    </tr>\n",
       "    <tr>\n",
       "      <th>50%</th>\n",
       "      <td>2.000000</td>\n",
       "      <td>103.000000</td>\n",
       "      <td>3.379150e+04</td>\n",
       "      <td>32.000000</td>\n",
       "      <td>239.000000</td>\n",
       "      <td>2.102620e+05</td>\n",
       "      <td>18.000000</td>\n",
       "      <td>6.600000</td>\n",
       "      <td>59.000000</td>\n",
       "      <td>55.000000</td>\n",
       "      <td>0.000000</td>\n",
       "      <td>2.000000</td>\n",
       "      <td>5.000000</td>\n",
       "      <td>16.000000</td>\n",
       "      <td>7.000000</td>\n",
       "      <td>2009.000000</td>\n",
       "      <td>16.000000</td>\n",
       "      <td>6.000000</td>\n",
       "      <td>2009.000000</td>\n",
       "    </tr>\n",
       "    <tr>\n",
       "      <th>75%</th>\n",
       "      <td>3.000000</td>\n",
       "      <td>115.000000</td>\n",
       "      <td>9.931125e+04</td>\n",
       "      <td>222.000000</td>\n",
       "      <td>1314.500000</td>\n",
       "      <td>8.718552e+05</td>\n",
       "      <td>91.000000</td>\n",
       "      <td>7.200000</td>\n",
       "      <td>80.000000</td>\n",
       "      <td>68.000000</td>\n",
       "      <td>0.000000</td>\n",
       "      <td>6.000000</td>\n",
       "      <td>13.000000</td>\n",
       "      <td>24.000000</td>\n",
       "      <td>10.000000</td>\n",
       "      <td>2012.000000</td>\n",
       "      <td>23.000000</td>\n",
       "      <td>10.000000</td>\n",
       "      <td>2012.000000</td>\n",
       "    </tr>\n",
       "    <tr>\n",
       "      <th>max</th>\n",
       "      <td>28.000000</td>\n",
       "      <td>566.000000</td>\n",
       "      <td>2.070977e+06</td>\n",
       "      <td>44644.000000</td>\n",
       "      <td>188526.000000</td>\n",
       "      <td>1.071502e+08</td>\n",
       "      <td>29267.000000</td>\n",
       "      <td>9.000000</td>\n",
       "      <td>100.000000</td>\n",
       "      <td>100.000000</td>\n",
       "      <td>1.000000</td>\n",
       "      <td>235.000000</td>\n",
       "      <td>326.000000</td>\n",
       "      <td>31.000000</td>\n",
       "      <td>12.000000</td>\n",
       "      <td>2068.000000</td>\n",
       "      <td>31.000000</td>\n",
       "      <td>12.000000</td>\n",
       "      <td>2017.000000</td>\n",
       "    </tr>\n",
       "  </tbody>\n",
       "</table>\n",
       "</div>"
      ],
      "text/plain": [
       "       writer_count      runtime   users_votes      comments          likes  \\\n",
       "count   2220.000000  2220.000000  2.220000e+03   2220.000000    2220.000000   \n",
       "mean       2.609009   106.370270  8.891338e+04    467.502703    2642.376577   \n",
       "std        2.028928    20.747366  1.527421e+05   1972.903775    9601.666650   \n",
       "min        1.000000    38.000000  1.430000e+02     -1.000000      -1.000000   \n",
       "25%        1.000000    93.750000  8.950750e+03      1.000000      22.000000   \n",
       "50%        2.000000   103.000000  3.379150e+04     32.000000     239.000000   \n",
       "75%        3.000000   115.000000  9.931125e+04    222.000000    1314.500000   \n",
       "max       28.000000   566.000000  2.070977e+06  44644.000000  188526.000000   \n",
       "\n",
       "       overall_views      dislikes  ratings_imdb  ratings_tomatoes  \\\n",
       "count   2.220000e+03   2220.000000   2220.000000       2220.000000   \n",
       "mean    1.219759e+06    193.773874      6.467432         55.636937   \n",
       "std     3.894912e+06    873.259293      0.988564         27.861301   \n",
       "min    -1.000000e+00     -1.000000      1.700000          0.000000   \n",
       "25%     3.295325e+04      2.000000      5.900000         33.000000   \n",
       "50%     2.102620e+05     18.000000      6.600000         59.000000   \n",
       "75%     8.718552e+05     91.000000      7.200000         80.000000   \n",
       "max     1.071502e+08  29267.000000      9.000000        100.000000   \n",
       "\n",
       "       ratings_metacritic  special_award   awards_win  awards_nomination  \\\n",
       "count         2220.000000    2220.000000  2220.000000        2220.000000   \n",
       "mean            53.577027       0.193694     6.845045          13.322072   \n",
       "std             20.369788       0.395281    16.617244          25.720731   \n",
       "min              0.000000       0.000000     0.000000           0.000000   \n",
       "25%             41.000000       0.000000     0.000000           1.000000   \n",
       "50%             55.000000       0.000000     2.000000           5.000000   \n",
       "75%             68.000000       0.000000     6.000000          13.000000   \n",
       "max            100.000000       1.000000   235.000000         326.000000   \n",
       "\n",
       "       release_date_day  release_date_month  release_date_year  \\\n",
       "count       2220.000000         2220.000000        2220.000000   \n",
       "mean          16.094144            6.649099        2008.243694   \n",
       "std            8.727442            3.460304           6.349061   \n",
       "min            1.000000            1.000000        1969.000000   \n",
       "25%            9.000000            4.000000        2005.000000   \n",
       "50%           16.000000            7.000000        2009.000000   \n",
       "75%           24.000000           10.000000        2012.000000   \n",
       "max           31.000000           12.000000        2068.000000   \n",
       "\n",
       "       dvd_release_date_day  dvd_release_date_month  dvd_release_date_year  \n",
       "count           2220.000000             2220.000000            2220.000000  \n",
       "mean              15.850000                6.338739            2008.555405  \n",
       "std                8.565814                3.591668               4.129505  \n",
       "min                1.000000                1.000000            1986.000000  \n",
       "25%                8.000000                3.000000            2005.000000  \n",
       "50%               16.000000                6.000000            2009.000000  \n",
       "75%               23.000000               10.000000            2012.000000  \n",
       "max               31.000000               12.000000            2017.000000  "
      ]
     },
     "execution_count": 579,
     "metadata": {},
     "output_type": "execute_result"
    }
   ],
   "source": [
    "df_num.describe()"
   ]
  },
  {
   "cell_type": "markdown",
   "metadata": {},
   "source": [
    "Based on the numeric columns, we have removed 2% of our data as outliers."
   ]
  },
  {
   "cell_type": "code",
   "execution_count": 580,
   "metadata": {},
   "outputs": [
    {
     "name": "stdout",
     "output_type": "stream",
     "text": [
      "dataset with outliers: 2220\n",
      "dataset without outliers: 2175\n",
      "percentage of data removed: 2.03 %\n"
     ]
    }
   ],
   "source": [
    "with warnings.catch_warnings():\n",
    "    warnings.filterwarnings(\"ignore\")\n",
    "\n",
    "    df_out = isolation_outlier(df_num)"
   ]
  },
  {
   "cell_type": "code",
   "execution_count": 581,
   "metadata": {},
   "outputs": [
    {
     "data": {
      "text/html": [
       "<div>\n",
       "<style scoped>\n",
       "    .dataframe tbody tr th:only-of-type {\n",
       "        vertical-align: middle;\n",
       "    }\n",
       "\n",
       "    .dataframe tbody tr th {\n",
       "        vertical-align: top;\n",
       "    }\n",
       "\n",
       "    .dataframe thead th {\n",
       "        text-align: right;\n",
       "    }\n",
       "</style>\n",
       "<table border=\"1\" class=\"dataframe\">\n",
       "  <thead>\n",
       "    <tr style=\"text-align: right;\">\n",
       "      <th></th>\n",
       "      <th>writer_count</th>\n",
       "      <th>runtime</th>\n",
       "      <th>users_votes</th>\n",
       "      <th>comments</th>\n",
       "      <th>likes</th>\n",
       "      <th>overall_views</th>\n",
       "      <th>dislikes</th>\n",
       "      <th>ratings_imdb</th>\n",
       "      <th>ratings_tomatoes</th>\n",
       "      <th>ratings_metacritic</th>\n",
       "      <th>special_award</th>\n",
       "      <th>awards_win</th>\n",
       "      <th>awards_nomination</th>\n",
       "      <th>release_date_day</th>\n",
       "      <th>release_date_month</th>\n",
       "      <th>release_date_year</th>\n",
       "      <th>dvd_release_date_day</th>\n",
       "      <th>dvd_release_date_month</th>\n",
       "      <th>dvd_release_date_year</th>\n",
       "    </tr>\n",
       "  </thead>\n",
       "  <tbody>\n",
       "    <tr>\n",
       "      <th>count</th>\n",
       "      <td>2175.000000</td>\n",
       "      <td>2175.000000</td>\n",
       "      <td>2.175000e+03</td>\n",
       "      <td>2175.000000</td>\n",
       "      <td>2175.000000</td>\n",
       "      <td>2.175000e+03</td>\n",
       "      <td>2175.000000</td>\n",
       "      <td>2175.000000</td>\n",
       "      <td>2175.000000</td>\n",
       "      <td>2175.000000</td>\n",
       "      <td>2175.000000</td>\n",
       "      <td>2175.000000</td>\n",
       "      <td>2175.000000</td>\n",
       "      <td>2175.000000</td>\n",
       "      <td>2175.000000</td>\n",
       "      <td>2175.000000</td>\n",
       "      <td>2175.000000</td>\n",
       "      <td>2175.000000</td>\n",
       "      <td>2175.000000</td>\n",
       "    </tr>\n",
       "    <tr>\n",
       "      <th>mean</th>\n",
       "      <td>2.589885</td>\n",
       "      <td>105.960460</td>\n",
       "      <td>8.103232e+04</td>\n",
       "      <td>317.018851</td>\n",
       "      <td>1845.582069</td>\n",
       "      <td>9.097943e+05</td>\n",
       "      <td>132.988966</td>\n",
       "      <td>6.451586</td>\n",
       "      <td>55.299310</td>\n",
       "      <td>53.419310</td>\n",
       "      <td>0.181149</td>\n",
       "      <td>5.884138</td>\n",
       "      <td>11.958161</td>\n",
       "      <td>16.067126</td>\n",
       "      <td>6.644598</td>\n",
       "      <td>2008.102529</td>\n",
       "      <td>15.892874</td>\n",
       "      <td>6.334713</td>\n",
       "      <td>2008.500690</td>\n",
       "    </tr>\n",
       "    <tr>\n",
       "      <th>std</th>\n",
       "      <td>2.017652</td>\n",
       "      <td>20.419301</td>\n",
       "      <td>1.281395e+05</td>\n",
       "      <td>954.947820</td>\n",
       "      <td>5242.575252</td>\n",
       "      <td>1.961221e+06</td>\n",
       "      <td>398.496351</td>\n",
       "      <td>0.980540</td>\n",
       "      <td>27.773514</td>\n",
       "      <td>20.134707</td>\n",
       "      <td>0.385231</td>\n",
       "      <td>12.341410</td>\n",
       "      <td>21.540501</td>\n",
       "      <td>8.711892</td>\n",
       "      <td>3.452415</td>\n",
       "      <td>6.070202</td>\n",
       "      <td>8.576192</td>\n",
       "      <td>3.586898</td>\n",
       "      <td>4.086898</td>\n",
       "    </tr>\n",
       "    <tr>\n",
       "      <th>min</th>\n",
       "      <td>1.000000</td>\n",
       "      <td>38.000000</td>\n",
       "      <td>1.430000e+02</td>\n",
       "      <td>-1.000000</td>\n",
       "      <td>-1.000000</td>\n",
       "      <td>-1.000000e+00</td>\n",
       "      <td>-1.000000</td>\n",
       "      <td>1.700000</td>\n",
       "      <td>0.000000</td>\n",
       "      <td>0.000000</td>\n",
       "      <td>0.000000</td>\n",
       "      <td>0.000000</td>\n",
       "      <td>0.000000</td>\n",
       "      <td>1.000000</td>\n",
       "      <td>1.000000</td>\n",
       "      <td>1969.000000</td>\n",
       "      <td>1.000000</td>\n",
       "      <td>1.000000</td>\n",
       "      <td>1997.000000</td>\n",
       "    </tr>\n",
       "    <tr>\n",
       "      <th>25%</th>\n",
       "      <td>1.000000</td>\n",
       "      <td>93.000000</td>\n",
       "      <td>8.816500e+03</td>\n",
       "      <td>1.000000</td>\n",
       "      <td>20.000000</td>\n",
       "      <td>3.183250e+04</td>\n",
       "      <td>1.000000</td>\n",
       "      <td>5.900000</td>\n",
       "      <td>33.000000</td>\n",
       "      <td>41.000000</td>\n",
       "      <td>0.000000</td>\n",
       "      <td>0.000000</td>\n",
       "      <td>1.000000</td>\n",
       "      <td>9.000000</td>\n",
       "      <td>4.000000</td>\n",
       "      <td>2005.000000</td>\n",
       "      <td>9.000000</td>\n",
       "      <td>3.000000</td>\n",
       "      <td>2005.000000</td>\n",
       "    </tr>\n",
       "    <tr>\n",
       "      <th>50%</th>\n",
       "      <td>2.000000</td>\n",
       "      <td>103.000000</td>\n",
       "      <td>3.285700e+04</td>\n",
       "      <td>30.000000</td>\n",
       "      <td>225.000000</td>\n",
       "      <td>2.005690e+05</td>\n",
       "      <td>17.000000</td>\n",
       "      <td>6.500000</td>\n",
       "      <td>59.000000</td>\n",
       "      <td>55.000000</td>\n",
       "      <td>0.000000</td>\n",
       "      <td>2.000000</td>\n",
       "      <td>5.000000</td>\n",
       "      <td>16.000000</td>\n",
       "      <td>7.000000</td>\n",
       "      <td>2008.000000</td>\n",
       "      <td>16.000000</td>\n",
       "      <td>6.000000</td>\n",
       "      <td>2009.000000</td>\n",
       "    </tr>\n",
       "    <tr>\n",
       "      <th>75%</th>\n",
       "      <td>3.000000</td>\n",
       "      <td>115.000000</td>\n",
       "      <td>9.539350e+04</td>\n",
       "      <td>206.000000</td>\n",
       "      <td>1224.000000</td>\n",
       "      <td>8.029555e+05</td>\n",
       "      <td>85.500000</td>\n",
       "      <td>7.100000</td>\n",
       "      <td>80.000000</td>\n",
       "      <td>68.000000</td>\n",
       "      <td>0.000000</td>\n",
       "      <td>6.000000</td>\n",
       "      <td>13.000000</td>\n",
       "      <td>24.000000</td>\n",
       "      <td>10.000000</td>\n",
       "      <td>2012.000000</td>\n",
       "      <td>23.000000</td>\n",
       "      <td>10.000000</td>\n",
       "      <td>2012.000000</td>\n",
       "    </tr>\n",
       "    <tr>\n",
       "      <th>max</th>\n",
       "      <td>28.000000</td>\n",
       "      <td>566.000000</td>\n",
       "      <td>1.611302e+06</td>\n",
       "      <td>15100.000000</td>\n",
       "      <td>66518.000000</td>\n",
       "      <td>2.143433e+07</td>\n",
       "      <td>7187.000000</td>\n",
       "      <td>8.800000</td>\n",
       "      <td>100.000000</td>\n",
       "      <td>100.000000</td>\n",
       "      <td>1.000000</td>\n",
       "      <td>138.000000</td>\n",
       "      <td>242.000000</td>\n",
       "      <td>31.000000</td>\n",
       "      <td>12.000000</td>\n",
       "      <td>2067.000000</td>\n",
       "      <td>31.000000</td>\n",
       "      <td>12.000000</td>\n",
       "      <td>2017.000000</td>\n",
       "    </tr>\n",
       "  </tbody>\n",
       "</table>\n",
       "</div>"
      ],
      "text/plain": [
       "       writer_count      runtime   users_votes      comments         likes  \\\n",
       "count   2175.000000  2175.000000  2.175000e+03   2175.000000   2175.000000   \n",
       "mean       2.589885   105.960460  8.103232e+04    317.018851   1845.582069   \n",
       "std        2.017652    20.419301  1.281395e+05    954.947820   5242.575252   \n",
       "min        1.000000    38.000000  1.430000e+02     -1.000000     -1.000000   \n",
       "25%        1.000000    93.000000  8.816500e+03      1.000000     20.000000   \n",
       "50%        2.000000   103.000000  3.285700e+04     30.000000    225.000000   \n",
       "75%        3.000000   115.000000  9.539350e+04    206.000000   1224.000000   \n",
       "max       28.000000   566.000000  1.611302e+06  15100.000000  66518.000000   \n",
       "\n",
       "       overall_views     dislikes  ratings_imdb  ratings_tomatoes  \\\n",
       "count   2.175000e+03  2175.000000   2175.000000       2175.000000   \n",
       "mean    9.097943e+05   132.988966      6.451586         55.299310   \n",
       "std     1.961221e+06   398.496351      0.980540         27.773514   \n",
       "min    -1.000000e+00    -1.000000      1.700000          0.000000   \n",
       "25%     3.183250e+04     1.000000      5.900000         33.000000   \n",
       "50%     2.005690e+05    17.000000      6.500000         59.000000   \n",
       "75%     8.029555e+05    85.500000      7.100000         80.000000   \n",
       "max     2.143433e+07  7187.000000      8.800000        100.000000   \n",
       "\n",
       "       ratings_metacritic  special_award   awards_win  awards_nomination  \\\n",
       "count         2175.000000    2175.000000  2175.000000        2175.000000   \n",
       "mean            53.419310       0.181149     5.884138          11.958161   \n",
       "std             20.134707       0.385231    12.341410          21.540501   \n",
       "min              0.000000       0.000000     0.000000           0.000000   \n",
       "25%             41.000000       0.000000     0.000000           1.000000   \n",
       "50%             55.000000       0.000000     2.000000           5.000000   \n",
       "75%             68.000000       0.000000     6.000000          13.000000   \n",
       "max            100.000000       1.000000   138.000000         242.000000   \n",
       "\n",
       "       release_date_day  release_date_month  release_date_year  \\\n",
       "count       2175.000000         2175.000000        2175.000000   \n",
       "mean          16.067126            6.644598        2008.102529   \n",
       "std            8.711892            3.452415           6.070202   \n",
       "min            1.000000            1.000000        1969.000000   \n",
       "25%            9.000000            4.000000        2005.000000   \n",
       "50%           16.000000            7.000000        2008.000000   \n",
       "75%           24.000000           10.000000        2012.000000   \n",
       "max           31.000000           12.000000        2067.000000   \n",
       "\n",
       "       dvd_release_date_day  dvd_release_date_month  dvd_release_date_year  \n",
       "count           2175.000000             2175.000000            2175.000000  \n",
       "mean              15.892874                6.334713            2008.500690  \n",
       "std                8.576192                3.586898               4.086898  \n",
       "min                1.000000                1.000000            1997.000000  \n",
       "25%                9.000000                3.000000            2005.000000  \n",
       "50%               16.000000                6.000000            2009.000000  \n",
       "75%               23.000000               10.000000            2012.000000  \n",
       "max               31.000000               12.000000            2017.000000  "
      ]
     },
     "execution_count": 581,
     "metadata": {},
     "output_type": "execute_result"
    }
   ],
   "source": [
    "df_out.describe()"
   ]
  },
  {
   "cell_type": "markdown",
   "metadata": {},
   "source": [
    "Let's quickly convert our target feature from a string into a binary integer"
   ]
  },
  {
   "cell_type": "code",
   "execution_count": 582,
   "metadata": {},
   "outputs": [
    {
     "name": "stderr",
     "output_type": "stream",
     "text": [
      "/opt/conda/lib/python3.7/site-packages/ipykernel_launcher.py:1: SettingWithCopyWarning: \n",
      "A value is trying to be set on a copy of a slice from a DataFrame.\n",
      "Try using .loc[row_indexer,col_indexer] = value instead\n",
      "\n",
      "See the caveats in the documentation: http://pandas.pydata.org/pandas-docs/stable/user_guide/indexing.html#returning-a-view-versus-a-copy\n",
      "  \"\"\"Entry point for launching an IPython kernel.\n"
     ]
    }
   ],
   "source": [
    "df_out['revenue_category'] = df_out['revenue_category'].map({'High': 1, 'Low': 0})"
   ]
  },
  {
   "cell_type": "markdown",
   "metadata": {},
   "source": [
    "Theoretically, we could also use the movie title as a predictor feature by embedding it into a vector space. I have decided against this, because of the time limit this coding test has and because we are dealing with a relatively low amount of data from several countries, making the creation of a meaningful vocabulary on which to embed on unlikely.\n",
    "\n",
    "Therefore we drop the title column."
   ]
  },
  {
   "cell_type": "code",
   "execution_count": 583,
   "metadata": {},
   "outputs": [],
   "source": [
    "df_out = df_out.drop('title', axis=1)"
   ]
  },
  {
   "cell_type": "markdown",
   "metadata": {},
   "source": [
    "# Train Test Split"
   ]
  },
  {
   "cell_type": "markdown",
   "metadata": {},
   "source": [
    "We then split our data into train and test datasets.\n",
    "\n",
    "I have decided to use the information of our target feature in a useful by stratifying the split along its distribution. This of course assumes that the original dataset is a good enough approximation of reality. If this were not the case, we would not stratify."
   ]
  },
  {
   "cell_type": "code",
   "execution_count": 584,
   "metadata": {},
   "outputs": [],
   "source": [
    "X_train, X_test, y_train, y_test = train_test_split(df_out.drop('revenue_category', axis=1), \n",
    "                                                    df_out['revenue_category'], \n",
    "                                                    test_size=0.25, \n",
    "                                                    random_state=42, \n",
    "                                                    shuffle=True, \n",
    "                                                    stratify=df_out['revenue_category'])\n",
    "\n",
    "\n",
    "\n",
    "df_train = pd.concat([X_train, y_train], axis=1)\n",
    "df_test = pd.concat([X_test, y_test], axis=1)"
   ]
  },
  {
   "cell_type": "markdown",
   "metadata": {},
   "source": [
    "As we can see, the distribution of our target feature is similar in both sets, indicating a successful split."
   ]
  },
  {
   "cell_type": "code",
   "execution_count": 585,
   "metadata": {},
   "outputs": [
    {
     "data": {
      "text/plain": [
       "<matplotlib.axes._subplots.AxesSubplot at 0x7f61ba6f14a8>"
      ]
     },
     "execution_count": 585,
     "metadata": {},
     "output_type": "execute_result"
    },
    {
     "data": {
      "image/png": "[encoded data removed]",
      "text/plain": [
       "<Figure size 432x288 with 1 Axes>"
      ]
     },
     "metadata": {},
     "output_type": "display_data"
    }
   ],
   "source": [
    "sns.set_style('whitegrid') \n",
    "sns.distplot(df_train['revenue_category'], kde = False, color ='red', bins = 2) "
   ]
  },
  {
   "cell_type": "code",
   "execution_count": 586,
   "metadata": {},
   "outputs": [
    {
     "data": {
      "text/plain": [
       "<matplotlib.axes._subplots.AxesSubplot at 0x7f61ba6c9b00>"
      ]
     },
     "execution_count": 586,
     "metadata": {},
     "output_type": "execute_result"
    },
    {
     "data": {
      "image/png": "[encoded data removed]",
      "text/plain": [
       "<Figure size 432x288 with 1 Axes>"
      ]
     },
     "metadata": {},
     "output_type": "display_data"
    }
   ],
   "source": [
    "sns.set_style('whitegrid') \n",
    "sns.distplot(df_test['revenue_category'], kde = False, color ='red', bins = 2) "
   ]
  },
  {
   "cell_type": "markdown",
   "metadata": {},
   "source": [
    "# Categorical Features"
   ]
  },
  {
   "cell_type": "markdown",
   "metadata": {},
   "source": [
    "Moving on to the transformation of categorical variables, we first identify the columns in need of preprocessing. \n",
    "\n",
    "Sure, variables such as day of month and month are actually ordinal cyclical ones, but keeping them as is will not take into account their cyclical properties. What you could possibly do is use a trigonometric approach by doing something like this:\n",
    "\n",
    "x_month = sin(2*pi*month/12)\n",
    "y_month = cos(2*pi*month/12)\n",
    "\n",
    "But since I am not planning to use a linear regression model, just designating them as categorical variables is just fine.\n",
    "\n",
    "The other columns are pretty self explanatory as they are strings, which need to be transformed into a numeric representation."
   ]
  },
  {
   "cell_type": "code",
   "execution_count": 587,
   "metadata": {},
   "outputs": [],
   "source": [
    "release_date_cols = ['release_date_year', 'release_date_month', 'release_date_day',\n",
    "                     'dvd_release_date_year', 'dvd_release_date_month', \n",
    "                     'dvd_release_date_day']\n",
    "\n",
    "cat_cols = list(X_train.select_dtypes(exclude=np.number).columns)"
   ]
  },
  {
   "cell_type": "code",
   "execution_count": 588,
   "metadata": {},
   "outputs": [],
   "source": [
    "loo_cols = cat_cols + release_date_cols"
   ]
  },
  {
   "cell_type": "markdown",
   "metadata": {},
   "source": [
    "To deal with categorical, I employ a \"leave one out\" target encoder.\n",
    "\n",
    "The encoded column will not result conventional dummy variable, but instead is the mean response over all rows for this categorical level, excluding the row itself. This gives you the advantage of having a one-column representation of the categorical while avoiding direct response leakage.\n",
    "\n",
    "Given that some of the categorical columns are high dimensional, encoding them as Dummy or One Hot features would drastically increase our dataset's dimensionality, so enconding into one column without data leakage is highly preferable for the sake of training time optimization as well as model complexity.\n",
    "\n",
    "Training the encoder is performed exclusively on the training data."
   ]
  },
  {
   "cell_type": "code",
   "execution_count": 589,
   "metadata": {},
   "outputs": [
    {
     "data": {
      "text/plain": [
       "LeaveOneOutEncoder(cols=['title_adaption', 'censor_rating',\n",
       "                         'release_date_day_name', 'dvd_release_date_day_name',\n",
       "                         'genre_1', 'genre_2', 'genre_3', 'lang_1', 'lang_2',\n",
       "                         'lang_3', 'cnt_1', 'cnt_2', 'cnt_3',\n",
       "                         'release_date_year', 'release_date_month',\n",
       "                         'release_date_day', 'dvd_release_date_year',\n",
       "                         'dvd_release_date_month', 'dvd_release_date_day'],\n",
       "                   drop_invariant=True, handle_missing='value',\n",
       "                   handle_unknown='value', random_state=None, return_df=True,\n",
       "                   sigma=None, verbose=0)"
      ]
     },
     "execution_count": 589,
     "metadata": {},
     "output_type": "execute_result"
    }
   ],
   "source": [
    "loo = LeaveOneOutEncoder(cols = loo_cols, drop_invariant=True, handle_unknown='value')\n",
    "loo.fit(X_train, y_train)"
   ]
  },
  {
   "cell_type": "markdown",
   "metadata": {},
   "source": [
    "You will notice that the test data is encoded based on the insights derived from the training on the training data, thus no data leakage occurs!"
   ]
  },
  {
   "cell_type": "code",
   "execution_count": 590,
   "metadata": {},
   "outputs": [],
   "source": [
    "X_train = loo.transform(X_train)\n",
    "X_test = loo.transform(X_test)"
   ]
  },
  {
   "cell_type": "markdown",
   "metadata": {},
   "source": [
    "# Baseline: Using the Majority Class Value of the Training Dataset as our Prediction"
   ]
  },
  {
   "cell_type": "markdown",
   "metadata": {},
   "source": [
    "We are done with data preprocessing. Next, we will create a naive baseline using the Majority Class Value of the train set target as our sole prediction value and see how we fare."
   ]
  },
  {
   "cell_type": "code",
   "execution_count": 591,
   "metadata": {},
   "outputs": [],
   "source": [
    "y_pred_maj = np.tile(1, len(y_test))"
   ]
  },
  {
   "cell_type": "markdown",
   "metadata": {},
   "source": [
    "Our Accuracy in this case is 54% and this is the number we have to beat in order for our model to be viable."
   ]
  },
  {
   "cell_type": "code",
   "execution_count": 592,
   "metadata": {},
   "outputs": [
    {
     "data": {
      "text/plain": [
       "53.86"
      ]
     },
     "execution_count": 592,
     "metadata": {},
     "output_type": "execute_result"
    }
   ],
   "source": [
    "baseline_acc = accuracy_score(y_test, y_pred_maj)\n",
    "round(baseline_acc*100,2)"
   ]
  },
  {
   "cell_type": "markdown",
   "metadata": {},
   "source": [
    "# Hyperparameter Optimization, K-Fold cross validation and Model Training"
   ]
  },
  {
   "cell_type": "markdown",
   "metadata": {},
   "source": [
    "As for the algorithm, I choose XGBoost because it is non-parametric, handles different data types well and is very robust against abnormalities in the data. In industrial application, it often performs well out of the box. "
   ]
  },
  {
   "cell_type": "code",
   "execution_count": 593,
   "metadata": {},
   "outputs": [],
   "source": [
    "acc_scorer = make_scorer(accuracy_score, greater_is_better=True)"
   ]
  },
  {
   "cell_type": "markdown",
   "metadata": {},
   "source": [
    "After establishing a baseline, we now define a parameter space for an XGBoost Classification algorithm.\n",
    "\n",
    "We then create an instance for Bayesian Hyperparameter Optimization and K-Fold Cross Validation and begin fitting the folds. Due to the relatively low amount of data, we should exceed 5 folds."
   ]
  },
  {
   "cell_type": "code",
   "execution_count": 594,
   "metadata": {},
   "outputs": [],
   "source": [
    "params_xgb = {\"n_estimators\": [10,20,50,100],\n",
    "              \"max_depth\": list(range(1, 11)),\n",
    "              \"learning_rate\": [1e-3, 1e-2, 1e-1, 0.5, 1.],\n",
    "              \"subsample\": list(np.arange(0.05, 1.01, 0.05)),\n",
    "              \"min_child_weight\": list(range(1, 21)),\n",
    "              \"colsample_bytree\": list(np.arange(0.1,1,0.1)),\n",
    "              \"reg_lambda\": [1e-4, 1e-3, 1e-2, 1e-1, 0.5, 1., 5., 10., 15., 20., 25.],\n",
    "              \"reg_alpha\": [1e-4, 1e-3, 1e-2, 1e-1, 0.5, 1., 5., 10., 15., 20., 25.]\n",
    "\n",
    "              }\n",
    "xgb = XGBClassifier(n_jobs=-1)\n",
    "bcvxg = BayesSearchCV(xgb, params_xgb,cv=5, n_iter=100, random_state=42, verbose=1, n_jobs=-1, n_points=100, \n",
    "                      scoring=acc_scorer)"
   ]
  },
  {
   "cell_type": "code",
   "execution_count": 595,
   "metadata": {},
   "outputs": [
    {
     "name": "stdout",
     "output_type": "stream",
     "text": [
      "Fitting 5 folds for each of 100 candidates, totalling 500 fits\n"
     ]
    },
    {
     "name": "stderr",
     "output_type": "stream",
     "text": [
      "[Parallel(n_jobs=-1)]: Using backend LokyBackend with 2 concurrent workers.\n",
      "[Parallel(n_jobs=-1)]: Done  69 tasks      | elapsed:    6.3s\n",
      "[Parallel(n_jobs=-1)]: Done 369 tasks      | elapsed:   22.3s\n",
      "[Parallel(n_jobs=-1)]: Done 497 out of 500 | elapsed:   29.3s remaining:    0.2s\n",
      "[Parallel(n_jobs=-1)]: Done 500 out of 500 | elapsed:   29.3s finished\n"
     ]
    }
   ],
   "source": [
    "with warnings.catch_warnings():\n",
    "    #The Bayes Optimizer Library throws some pretty lenghty FutureWarnings during fitting. We will ignore them.\n",
    "    warnings.filterwarnings(\"ignore\")\n",
    "    bcvxg.fit(X_train, y_train)"
   ]
  },
  {
   "cell_type": "markdown",
   "metadata": {},
   "source": [
    "The average accuracy over all 5 folds of our best classifier is 88.5%. Much better than our baseline. "
   ]
  },
  {
   "cell_type": "code",
   "execution_count": 596,
   "metadata": {},
   "outputs": [
    {
     "data": {
      "text/plain": [
       "88.47"
      ]
     },
     "execution_count": 596,
     "metadata": {},
     "output_type": "execute_result"
    }
   ],
   "source": [
    "round(bcvxg.best_score_*100,2)"
   ]
  },
  {
   "cell_type": "markdown",
   "metadata": {},
   "source": [
    "# Prediction and Result on Test Split"
   ]
  },
  {
   "cell_type": "markdown",
   "metadata": {},
   "source": [
    "After fitting the folds, we create a variable for the algorithm with the settings that yielded the highest accuracy and train on the entire data with these parameters."
   ]
  },
  {
   "cell_type": "code",
   "execution_count": 597,
   "metadata": {},
   "outputs": [
    {
     "data": {
      "text/plain": [
       "XGBClassifier(base_score=0.5, booster='gbtree', colsample_bylevel=1,\n",
       "              colsample_bynode=1, colsample_bytree=0.5, gamma=0, gpu_id=-1,\n",
       "              importance_type='gain', interaction_constraints='',\n",
       "              learning_rate=0.1, max_delta_step=0, max_depth=9,\n",
       "              min_child_weight=6, missing=nan, monotone_constraints='()',\n",
       "              n_estimators=100, n_jobs=-1, num_parallel_tree=1,\n",
       "              objective='binary:logistic', random_state=0, reg_alpha=0.0001,\n",
       "              reg_lambda=10.0, scale_pos_weight=1, subsample=0.8,\n",
       "              tree_method='exact', validate_parameters=1, verbosity=None)"
      ]
     },
     "execution_count": 597,
     "metadata": {},
     "output_type": "execute_result"
    }
   ],
   "source": [
    "best = bcvxg.best_estimator_\n",
    "best.fit(X_train, y_train)"
   ]
  },
  {
   "cell_type": "markdown",
   "metadata": {},
   "source": [
    "After having performed Hyperparameter Optimization and K-Fold Cross Validation, we take the algorithm with the best parameters and train it with the entire training data and let it predict on test data set.\n",
    "\n",
    "On unseen data, the model performs similarly at an accuracy of 89.9%, which is even slightly better than our Cross Validation mean accuracy and indicates that the model generalizes well. "
   ]
  },
  {
   "cell_type": "code",
   "execution_count": 598,
   "metadata": {},
   "outputs": [
    {
     "name": "stdout",
     "output_type": "stream",
     "text": [
      "accuracy xgboost: 89.89\n"
     ]
    }
   ],
   "source": [
    "acc_xg = accuracy_score(y_test, best.predict(X_test))\n",
    "print('accuracy xgboost:', round(acc_xg*100, 2))"
   ]
  },
  {
   "cell_type": "markdown",
   "metadata": {},
   "source": [
    "# Validation Dataset and CSV File Submission"
   ]
  },
  {
   "cell_type": "markdown",
   "metadata": {},
   "source": [
    "Let us import the validation data on which this task will be evaluated and give it a quick check."
   ]
  },
  {
   "cell_type": "code",
   "execution_count": 616,
   "metadata": {},
   "outputs": [],
   "source": [
    "val = pd.read_csv('test.csv')"
   ]
  },
  {
   "cell_type": "code",
   "execution_count": 617,
   "metadata": {},
   "outputs": [
    {
     "data": {
      "text/html": [
       "<div>\n",
       "<style scoped>\n",
       "    .dataframe tbody tr th:only-of-type {\n",
       "        vertical-align: middle;\n",
       "    }\n",
       "\n",
       "    .dataframe tbody tr th {\n",
       "        vertical-align: top;\n",
       "    }\n",
       "\n",
       "    .dataframe thead th {\n",
       "        text-align: right;\n",
       "    }\n",
       "</style>\n",
       "<table border=\"1\" class=\"dataframe\">\n",
       "  <thead>\n",
       "    <tr style=\"text-align: right;\">\n",
       "      <th></th>\n",
       "      <th>title</th>\n",
       "      <th>country</th>\n",
       "      <th>genres</th>\n",
       "      <th>language</th>\n",
       "      <th>writer_count</th>\n",
       "      <th>title_adaption</th>\n",
       "      <th>censor_rating</th>\n",
       "      <th>release_date</th>\n",
       "      <th>runtime</th>\n",
       "      <th>dvd_release_date</th>\n",
       "      <th>users_votes</th>\n",
       "      <th>comments</th>\n",
       "      <th>likes</th>\n",
       "      <th>overall_views</th>\n",
       "      <th>dislikes</th>\n",
       "      <th>ratings_imdb</th>\n",
       "      <th>ratings_tomatoes</th>\n",
       "      <th>ratings_metacritic</th>\n",
       "      <th>special_award</th>\n",
       "      <th>awards_win</th>\n",
       "      <th>awards_nomination</th>\n",
       "    </tr>\n",
       "  </thead>\n",
       "  <tbody>\n",
       "    <tr>\n",
       "      <th>0</th>\n",
       "      <td>Delhi-6</td>\n",
       "      <td>India</td>\n",
       "      <td>Comedy, Drama</td>\n",
       "      <td>Hindi, English</td>\n",
       "      <td>3.0</td>\n",
       "      <td>True</td>\n",
       "      <td>Not Rated</td>\n",
       "      <td>20-Feb-09</td>\n",
       "      <td>141 min</td>\n",
       "      <td>16-Jun-09</td>\n",
       "      <td>6,337</td>\n",
       "      <td>7.0</td>\n",
       "      <td>43.0</td>\n",
       "      <td>165008.0</td>\n",
       "      <td>13.0</td>\n",
       "      <td>6.0/10</td>\n",
       "      <td>40%</td>\n",
       "      <td>45/100</td>\n",
       "      <td>0</td>\n",
       "      <td>2</td>\n",
       "      <td>7</td>\n",
       "    </tr>\n",
       "    <tr>\n",
       "      <th>1</th>\n",
       "      <td>Before I Disappear</td>\n",
       "      <td>USA, UK</td>\n",
       "      <td>Drama</td>\n",
       "      <td>English</td>\n",
       "      <td>1.0</td>\n",
       "      <td>False</td>\n",
       "      <td>Unrated</td>\n",
       "      <td>28-Nov-14</td>\n",
       "      <td>93 min</td>\n",
       "      <td>19-May-15</td>\n",
       "      <td>8,370</td>\n",
       "      <td>NaN</td>\n",
       "      <td>NaN</td>\n",
       "      <td>NaN</td>\n",
       "      <td>NaN</td>\n",
       "      <td>7.2/10</td>\n",
       "      <td>38%</td>\n",
       "      <td>47/100</td>\n",
       "      <td>0</td>\n",
       "      <td>16</td>\n",
       "      <td>8</td>\n",
       "    </tr>\n",
       "    <tr>\n",
       "      <th>2</th>\n",
       "      <td>Good Year, A</td>\n",
       "      <td>USA, UK</td>\n",
       "      <td>Comedy, Drama, Romance</td>\n",
       "      <td>English, French, Russian</td>\n",
       "      <td>2.0</td>\n",
       "      <td>True</td>\n",
       "      <td>PG-13</td>\n",
       "      <td>10-Nov-06</td>\n",
       "      <td>117 min</td>\n",
       "      <td>27-Feb-07</td>\n",
       "      <td>82,062</td>\n",
       "      <td>14.0</td>\n",
       "      <td>276.0</td>\n",
       "      <td>187788.0</td>\n",
       "      <td>17.0</td>\n",
       "      <td>7.0/10</td>\n",
       "      <td>25%</td>\n",
       "      <td>47/100</td>\n",
       "      <td>0</td>\n",
       "      <td>1</td>\n",
       "      <td>2</td>\n",
       "    </tr>\n",
       "    <tr>\n",
       "      <th>3</th>\n",
       "      <td>Brüno</td>\n",
       "      <td>USA, UK</td>\n",
       "      <td>Comedy</td>\n",
       "      <td>English, German</td>\n",
       "      <td>9.0</td>\n",
       "      <td>True</td>\n",
       "      <td>R</td>\n",
       "      <td>10-Jul-09</td>\n",
       "      <td>81 min</td>\n",
       "      <td>17-Nov-09</td>\n",
       "      <td>1,33,925</td>\n",
       "      <td>81.0</td>\n",
       "      <td>301.0</td>\n",
       "      <td>200324.0</td>\n",
       "      <td>43.0</td>\n",
       "      <td>5.8/10</td>\n",
       "      <td>67%</td>\n",
       "      <td>54/100</td>\n",
       "      <td>0</td>\n",
       "      <td>2</td>\n",
       "      <td>5</td>\n",
       "    </tr>\n",
       "    <tr>\n",
       "      <th>4</th>\n",
       "      <td>How to Lose a Guy in 10 Days</td>\n",
       "      <td>USA, Germany</td>\n",
       "      <td>Comedy, Romance</td>\n",
       "      <td>English</td>\n",
       "      <td>5.0</td>\n",
       "      <td>True</td>\n",
       "      <td>PG-13</td>\n",
       "      <td>07-Feb-03</td>\n",
       "      <td>116 min</td>\n",
       "      <td>01-Jul-03</td>\n",
       "      <td>1,90,396</td>\n",
       "      <td>74.0</td>\n",
       "      <td>480.0</td>\n",
       "      <td>740345.0</td>\n",
       "      <td>23.0</td>\n",
       "      <td>6.4/10</td>\n",
       "      <td>42%</td>\n",
       "      <td>45/100</td>\n",
       "      <td>0</td>\n",
       "      <td>1</td>\n",
       "      <td>8</td>\n",
       "    </tr>\n",
       "  </tbody>\n",
       "</table>\n",
       "</div>"
      ],
      "text/plain": [
       "                           title       country                  genres  \\\n",
       "0                       Delhi-6          India           Comedy, Drama   \n",
       "1            Before I Disappear        USA, UK                   Drama   \n",
       "2                  Good Year, A        USA, UK  Comedy, Drama, Romance   \n",
       "3                         Brüno        USA, UK                  Comedy   \n",
       "4  How to Lose a Guy in 10 Days   USA, Germany         Comedy, Romance   \n",
       "\n",
       "                   language  writer_count  title_adaption censor_rating  \\\n",
       "0            Hindi, English           3.0            True     Not Rated   \n",
       "1                   English           1.0           False       Unrated   \n",
       "2  English, French, Russian           2.0            True         PG-13   \n",
       "3           English, German           9.0            True             R   \n",
       "4                   English           5.0            True         PG-13   \n",
       "\n",
       "  release_date  runtime dvd_release_date users_votes  comments  likes  \\\n",
       "0    20-Feb-09  141 min        16-Jun-09       6,337       7.0   43.0   \n",
       "1    28-Nov-14   93 min        19-May-15       8,370       NaN    NaN   \n",
       "2    10-Nov-06  117 min        27-Feb-07      82,062      14.0  276.0   \n",
       "3    10-Jul-09   81 min        17-Nov-09    1,33,925      81.0  301.0   \n",
       "4    07-Feb-03  116 min        01-Jul-03    1,90,396      74.0  480.0   \n",
       "\n",
       "   overall_views  dislikes ratings_imdb ratings_tomatoes ratings_metacritic  \\\n",
       "0       165008.0      13.0       6.0/10              40%             45/100   \n",
       "1            NaN       NaN       7.2/10              38%             47/100   \n",
       "2       187788.0      17.0       7.0/10              25%             47/100   \n",
       "3       200324.0      43.0       5.8/10              67%             54/100   \n",
       "4       740345.0      23.0       6.4/10              42%             45/100   \n",
       "\n",
       "   special_award  awards_win  awards_nomination  \n",
       "0              0           2                  7  \n",
       "1              0          16                  8  \n",
       "2              0           1                  2  \n",
       "3              0           2                  5  \n",
       "4              0           1                  8  "
      ]
     },
     "execution_count": 617,
     "metadata": {},
     "output_type": "execute_result"
    }
   ],
   "source": [
    "val.head()"
   ]
  },
  {
   "cell_type": "markdown",
   "metadata": {},
   "source": [
    "We are not using the title for prediction purposes but later need it for our csv file, so let's store it seperately."
   ]
  },
  {
   "cell_type": "code",
   "execution_count": 618,
   "metadata": {},
   "outputs": [],
   "source": [
    "val_title = val['title'].values"
   ]
  },
  {
   "cell_type": "markdown",
   "metadata": {},
   "source": [
    "Let us also check the number of rows and the missing values."
   ]
  },
  {
   "cell_type": "code",
   "execution_count": 619,
   "metadata": {},
   "outputs": [
    {
     "data": {
      "text/plain": [
       "600"
      ]
     },
     "execution_count": 619,
     "metadata": {},
     "output_type": "execute_result"
    }
   ],
   "source": [
    "len(val)"
   ]
  },
  {
   "cell_type": "markdown",
   "metadata": {},
   "source": [
    "Unlike on our training data, I will refrain from dropping columns for the sake predicting on complete data. Therefore I will simply impute the missing values with -1."
   ]
  },
  {
   "cell_type": "code",
   "execution_count": 620,
   "metadata": {},
   "outputs": [
    {
     "data": {
      "text/plain": [
       "title                   0\n",
       "country                 0\n",
       "genres                  0\n",
       "language                0\n",
       "writer_count           29\n",
       "title_adaption          0\n",
       "censor_rating          16\n",
       "release_date            2\n",
       "runtime                 0\n",
       "dvd_release_date       18\n",
       "users_votes             0\n",
       "comments              124\n",
       "likes                 123\n",
       "overall_views          93\n",
       "dislikes              123\n",
       "ratings_imdb            0\n",
       "ratings_tomatoes        0\n",
       "ratings_metacritic      0\n",
       "special_award           0\n",
       "awards_win              0\n",
       "awards_nomination       0\n",
       "dtype: int64"
      ]
     },
     "execution_count": 620,
     "metadata": {},
     "output_type": "execute_result"
    }
   ],
   "source": [
    "val.isna().sum()"
   ]
  },
  {
   "cell_type": "code",
   "execution_count": 621,
   "metadata": {},
   "outputs": [],
   "source": [
    "val = val.fillna(-1)"
   ]
  },
  {
   "cell_type": "markdown",
   "metadata": {},
   "source": [
    "We perform the same preprocessing here as we did on our training data, so that the algorithm can work with the inputs and is able to perform prediction."
   ]
  },
  {
   "cell_type": "code",
   "execution_count": 622,
   "metadata": {},
   "outputs": [],
   "source": [
    "val = time_decon(val, 'release_date')\n",
    "val = time_decon(val, 'dvd_release_date')\n",
    "val = val.drop(['release_date', 'dvd_release_date', 'title'], axis=1)"
   ]
  },
  {
   "cell_type": "code",
   "execution_count": 623,
   "metadata": {},
   "outputs": [],
   "source": [
    "val_genredf = val['genres'].str.split(', ', expand=True)\n",
    "val_langdf = val['language'].str.split(', ', expand=True)\n",
    "val_countrydf = val['country'].str.split(', ', expand=True)"
   ]
  },
  {
   "cell_type": "code",
   "execution_count": 624,
   "metadata": {},
   "outputs": [],
   "source": [
    "val_genredf.rename(columns={0:'genre_1', 1:'genre_2', 2:'genre_3'}, inplace=True)\n",
    "val_genredf = val_genredf[['genre_1', 'genre_2', 'genre_3']]\n",
    "\n",
    "val_langdf.rename(columns={0:'lang_1', 1:'lang_2', 2:'lang_3'}, inplace=True)\n",
    "val_langdf = val_langdf[['lang_1', 'lang_2', 'lang_3']]\n",
    "\n",
    "val_countrydf.rename(columns={0:'cnt_1', 1:'cnt_2', 2:'cnt_3'}, inplace=True)\n",
    "val_countrydf = val_countrydf[['cnt_1', 'cnt_2', 'cnt_3']]"
   ]
  },
  {
   "cell_type": "code",
   "execution_count": 625,
   "metadata": {},
   "outputs": [],
   "source": [
    "val = val.fillna('None')"
   ]
  },
  {
   "cell_type": "code",
   "execution_count": 626,
   "metadata": {},
   "outputs": [],
   "source": [
    "val = pd.concat([val, val_genredf, val_langdf, val_countrydf], axis=1)\n",
    "val = val.drop(['genres', 'language', 'country'], axis=1)"
   ]
  },
  {
   "cell_type": "code",
   "execution_count": 627,
   "metadata": {},
   "outputs": [],
   "source": [
    "val['users_votes'] = val['users_votes'].str.replace(r',', '').astype(float)\n",
    "val['runtime'] = val['runtime'].str.replace(r' min', '').astype(float)\n",
    "val['ratings_tomatoes'] = val['ratings_tomatoes'].str.replace(r'%', '').astype(float)\n",
    "val['ratings_metacritic'] = val['ratings_metacritic'].str.split('/').str[0].astype(float)\n",
    "val['ratings_imdb'] = val['ratings_imdb'].str.split('/').str[0].astype(float)"
   ]
  },
  {
   "cell_type": "code",
   "execution_count": 628,
   "metadata": {},
   "outputs": [],
   "source": [
    "val_trans = loo.transform(val)"
   ]
  },
  {
   "cell_type": "markdown",
   "metadata": {},
   "source": [
    "After a final check, the data looks good and we can use our pre-trained model to predict. The predictions and CSV make sense, too! "
   ]
  },
  {
   "cell_type": "code",
   "execution_count": 629,
   "metadata": {},
   "outputs": [
    {
     "data": {
      "text/html": [
       "<div>\n",
       "<style scoped>\n",
       "    .dataframe tbody tr th:only-of-type {\n",
       "        vertical-align: middle;\n",
       "    }\n",
       "\n",
       "    .dataframe tbody tr th {\n",
       "        vertical-align: top;\n",
       "    }\n",
       "\n",
       "    .dataframe thead th {\n",
       "        text-align: right;\n",
       "    }\n",
       "</style>\n",
       "<table border=\"1\" class=\"dataframe\">\n",
       "  <thead>\n",
       "    <tr style=\"text-align: right;\">\n",
       "      <th></th>\n",
       "      <th>writer_count</th>\n",
       "      <th>title_adaption</th>\n",
       "      <th>censor_rating</th>\n",
       "      <th>runtime</th>\n",
       "      <th>users_votes</th>\n",
       "      <th>comments</th>\n",
       "      <th>likes</th>\n",
       "      <th>overall_views</th>\n",
       "      <th>dislikes</th>\n",
       "      <th>ratings_imdb</th>\n",
       "      <th>ratings_tomatoes</th>\n",
       "      <th>ratings_metacritic</th>\n",
       "      <th>special_award</th>\n",
       "      <th>awards_win</th>\n",
       "      <th>awards_nomination</th>\n",
       "      <th>release_date_day</th>\n",
       "      <th>release_date_day_name</th>\n",
       "      <th>release_date_month</th>\n",
       "      <th>release_date_year</th>\n",
       "      <th>dvd_release_date_day</th>\n",
       "      <th>dvd_release_date_day_name</th>\n",
       "      <th>dvd_release_date_month</th>\n",
       "      <th>dvd_release_date_year</th>\n",
       "      <th>genre_1</th>\n",
       "      <th>genre_2</th>\n",
       "      <th>genre_3</th>\n",
       "      <th>lang_1</th>\n",
       "      <th>lang_2</th>\n",
       "      <th>lang_3</th>\n",
       "      <th>cnt_1</th>\n",
       "      <th>cnt_2</th>\n",
       "      <th>cnt_3</th>\n",
       "    </tr>\n",
       "  </thead>\n",
       "  <tbody>\n",
       "    <tr>\n",
       "      <th>0</th>\n",
       "      <td>3.0</td>\n",
       "      <td>0.600470</td>\n",
       "      <td>0.006849</td>\n",
       "      <td>141.0</td>\n",
       "      <td>6337.0</td>\n",
       "      <td>7.0</td>\n",
       "      <td>43.0</td>\n",
       "      <td>165008.0</td>\n",
       "      <td>13.0</td>\n",
       "      <td>6.0</td>\n",
       "      <td>40.0</td>\n",
       "      <td>45.0</td>\n",
       "      <td>0</td>\n",
       "      <td>2</td>\n",
       "      <td>7</td>\n",
       "      <td>0.535714</td>\n",
       "      <td>0.616372</td>\n",
       "      <td>0.618182</td>\n",
       "      <td>0.561404</td>\n",
       "      <td>0.680851</td>\n",
       "      <td>0.553417</td>\n",
       "      <td>0.633028</td>\n",
       "      <td>0.596330</td>\n",
       "      <td>0.550218</td>\n",
       "      <td>0.446712</td>\n",
       "      <td>0.538320</td>\n",
       "      <td>0.038462</td>\n",
       "      <td>0.142857</td>\n",
       "      <td>0.53832</td>\n",
       "      <td>0.038462</td>\n",
       "      <td>0.538320</td>\n",
       "      <td>0.53832</td>\n",
       "    </tr>\n",
       "    <tr>\n",
       "      <th>1</th>\n",
       "      <td>1.0</td>\n",
       "      <td>0.470513</td>\n",
       "      <td>0.000000</td>\n",
       "      <td>93.0</td>\n",
       "      <td>8370.0</td>\n",
       "      <td>-1.0</td>\n",
       "      <td>-1.0</td>\n",
       "      <td>-1.0</td>\n",
       "      <td>-1.0</td>\n",
       "      <td>7.2</td>\n",
       "      <td>38.0</td>\n",
       "      <td>47.0</td>\n",
       "      <td>0</td>\n",
       "      <td>16</td>\n",
       "      <td>8</td>\n",
       "      <td>0.560000</td>\n",
       "      <td>0.616372</td>\n",
       "      <td>0.571429</td>\n",
       "      <td>0.419355</td>\n",
       "      <td>0.392857</td>\n",
       "      <td>0.553417</td>\n",
       "      <td>0.575540</td>\n",
       "      <td>0.440678</td>\n",
       "      <td>0.347258</td>\n",
       "      <td>0.538320</td>\n",
       "      <td>0.538320</td>\n",
       "      <td>0.611310</td>\n",
       "      <td>0.538320</td>\n",
       "      <td>0.53832</td>\n",
       "      <td>0.665142</td>\n",
       "      <td>0.597826</td>\n",
       "      <td>0.53832</td>\n",
       "    </tr>\n",
       "    <tr>\n",
       "      <th>2</th>\n",
       "      <td>2.0</td>\n",
       "      <td>0.600470</td>\n",
       "      <td>0.747554</td>\n",
       "      <td>117.0</td>\n",
       "      <td>82062.0</td>\n",
       "      <td>14.0</td>\n",
       "      <td>276.0</td>\n",
       "      <td>187788.0</td>\n",
       "      <td>17.0</td>\n",
       "      <td>7.0</td>\n",
       "      <td>25.0</td>\n",
       "      <td>47.0</td>\n",
       "      <td>0</td>\n",
       "      <td>1</td>\n",
       "      <td>2</td>\n",
       "      <td>0.562500</td>\n",
       "      <td>0.616372</td>\n",
       "      <td>0.571429</td>\n",
       "      <td>0.675439</td>\n",
       "      <td>0.649123</td>\n",
       "      <td>0.553417</td>\n",
       "      <td>0.494118</td>\n",
       "      <td>0.650943</td>\n",
       "      <td>0.550218</td>\n",
       "      <td>0.446712</td>\n",
       "      <td>0.535714</td>\n",
       "      <td>0.611310</td>\n",
       "      <td>0.500000</td>\n",
       "      <td>0.75000</td>\n",
       "      <td>0.665142</td>\n",
       "      <td>0.597826</td>\n",
       "      <td>0.53832</td>\n",
       "    </tr>\n",
       "    <tr>\n",
       "      <th>3</th>\n",
       "      <td>9.0</td>\n",
       "      <td>0.600470</td>\n",
       "      <td>0.464435</td>\n",
       "      <td>81.0</td>\n",
       "      <td>133925.0</td>\n",
       "      <td>81.0</td>\n",
       "      <td>301.0</td>\n",
       "      <td>200324.0</td>\n",
       "      <td>43.0</td>\n",
       "      <td>5.8</td>\n",
       "      <td>67.0</td>\n",
       "      <td>54.0</td>\n",
       "      <td>0</td>\n",
       "      <td>2</td>\n",
       "      <td>5</td>\n",
       "      <td>0.562500</td>\n",
       "      <td>0.616372</td>\n",
       "      <td>0.541667</td>\n",
       "      <td>0.561404</td>\n",
       "      <td>0.530303</td>\n",
       "      <td>0.553417</td>\n",
       "      <td>0.517483</td>\n",
       "      <td>0.596330</td>\n",
       "      <td>0.550218</td>\n",
       "      <td>0.538320</td>\n",
       "      <td>0.538320</td>\n",
       "      <td>0.611310</td>\n",
       "      <td>0.543478</td>\n",
       "      <td>0.53832</td>\n",
       "      <td>0.665142</td>\n",
       "      <td>0.597826</td>\n",
       "      <td>0.53832</td>\n",
       "    </tr>\n",
       "    <tr>\n",
       "      <th>4</th>\n",
       "      <td>5.0</td>\n",
       "      <td>0.600470</td>\n",
       "      <td>0.747554</td>\n",
       "      <td>116.0</td>\n",
       "      <td>190396.0</td>\n",
       "      <td>74.0</td>\n",
       "      <td>480.0</td>\n",
       "      <td>740345.0</td>\n",
       "      <td>23.0</td>\n",
       "      <td>6.4</td>\n",
       "      <td>42.0</td>\n",
       "      <td>45.0</td>\n",
       "      <td>0</td>\n",
       "      <td>1</td>\n",
       "      <td>8</td>\n",
       "      <td>0.500000</td>\n",
       "      <td>0.616372</td>\n",
       "      <td>0.618182</td>\n",
       "      <td>0.645570</td>\n",
       "      <td>0.521739</td>\n",
       "      <td>0.553417</td>\n",
       "      <td>0.439655</td>\n",
       "      <td>0.600000</td>\n",
       "      <td>0.550218</td>\n",
       "      <td>0.452703</td>\n",
       "      <td>0.538320</td>\n",
       "      <td>0.611310</td>\n",
       "      <td>0.538320</td>\n",
       "      <td>0.53832</td>\n",
       "      <td>0.665142</td>\n",
       "      <td>0.645455</td>\n",
       "      <td>0.53832</td>\n",
       "    </tr>\n",
       "  </tbody>\n",
       "</table>\n",
       "</div>"
      ],
      "text/plain": [
       "   writer_count  title_adaption  censor_rating  runtime  users_votes  \\\n",
       "0           3.0        0.600470       0.006849    141.0       6337.0   \n",
       "1           1.0        0.470513       0.000000     93.0       8370.0   \n",
       "2           2.0        0.600470       0.747554    117.0      82062.0   \n",
       "3           9.0        0.600470       0.464435     81.0     133925.0   \n",
       "4           5.0        0.600470       0.747554    116.0     190396.0   \n",
       "\n",
       "   comments  likes  overall_views  dislikes  ratings_imdb  ratings_tomatoes  \\\n",
       "0       7.0   43.0       165008.0      13.0           6.0              40.0   \n",
       "1      -1.0   -1.0           -1.0      -1.0           7.2              38.0   \n",
       "2      14.0  276.0       187788.0      17.0           7.0              25.0   \n",
       "3      81.0  301.0       200324.0      43.0           5.8              67.0   \n",
       "4      74.0  480.0       740345.0      23.0           6.4              42.0   \n",
       "\n",
       "   ratings_metacritic  special_award  awards_win  awards_nomination  \\\n",
       "0                45.0              0           2                  7   \n",
       "1                47.0              0          16                  8   \n",
       "2                47.0              0           1                  2   \n",
       "3                54.0              0           2                  5   \n",
       "4                45.0              0           1                  8   \n",
       "\n",
       "   release_date_day  release_date_day_name  release_date_month  \\\n",
       "0          0.535714               0.616372            0.618182   \n",
       "1          0.560000               0.616372            0.571429   \n",
       "2          0.562500               0.616372            0.571429   \n",
       "3          0.562500               0.616372            0.541667   \n",
       "4          0.500000               0.616372            0.618182   \n",
       "\n",
       "   release_date_year  dvd_release_date_day  dvd_release_date_day_name  \\\n",
       "0           0.561404              0.680851                   0.553417   \n",
       "1           0.419355              0.392857                   0.553417   \n",
       "2           0.675439              0.649123                   0.553417   \n",
       "3           0.561404              0.530303                   0.553417   \n",
       "4           0.645570              0.521739                   0.553417   \n",
       "\n",
       "   dvd_release_date_month  dvd_release_date_year   genre_1   genre_2  \\\n",
       "0                0.633028               0.596330  0.550218  0.446712   \n",
       "1                0.575540               0.440678  0.347258  0.538320   \n",
       "2                0.494118               0.650943  0.550218  0.446712   \n",
       "3                0.517483               0.596330  0.550218  0.538320   \n",
       "4                0.439655               0.600000  0.550218  0.452703   \n",
       "\n",
       "    genre_3    lang_1    lang_2   lang_3     cnt_1     cnt_2    cnt_3  \n",
       "0  0.538320  0.038462  0.142857  0.53832  0.038462  0.538320  0.53832  \n",
       "1  0.538320  0.611310  0.538320  0.53832  0.665142  0.597826  0.53832  \n",
       "2  0.535714  0.611310  0.500000  0.75000  0.665142  0.597826  0.53832  \n",
       "3  0.538320  0.611310  0.543478  0.53832  0.665142  0.597826  0.53832  \n",
       "4  0.538320  0.611310  0.538320  0.53832  0.665142  0.645455  0.53832  "
      ]
     },
     "execution_count": 629,
     "metadata": {},
     "output_type": "execute_result"
    }
   ],
   "source": [
    "val_trans.head()"
   ]
  },
  {
   "cell_type": "code",
   "execution_count": 630,
   "metadata": {},
   "outputs": [],
   "source": [
    "val_trans['predictions'] = best.predict(val_trans)\n",
    "val_trans['title'] = val_title"
   ]
  },
  {
   "cell_type": "code",
   "execution_count": 631,
   "metadata": {},
   "outputs": [],
   "source": [
    "submissions = val_trans[['title', 'predictions']]"
   ]
  },
  {
   "cell_type": "code",
   "execution_count": 632,
   "metadata": {},
   "outputs": [
    {
     "data": {
      "text/html": [
       "<div>\n",
       "<style scoped>\n",
       "    .dataframe tbody tr th:only-of-type {\n",
       "        vertical-align: middle;\n",
       "    }\n",
       "\n",
       "    .dataframe tbody tr th {\n",
       "        vertical-align: top;\n",
       "    }\n",
       "\n",
       "    .dataframe thead th {\n",
       "        text-align: right;\n",
       "    }\n",
       "</style>\n",
       "<table border=\"1\" class=\"dataframe\">\n",
       "  <thead>\n",
       "    <tr style=\"text-align: right;\">\n",
       "      <th></th>\n",
       "      <th>title</th>\n",
       "      <th>predictions</th>\n",
       "    </tr>\n",
       "  </thead>\n",
       "  <tbody>\n",
       "    <tr>\n",
       "      <th>0</th>\n",
       "      <td>Delhi-6</td>\n",
       "      <td>0</td>\n",
       "    </tr>\n",
       "    <tr>\n",
       "      <th>1</th>\n",
       "      <td>Before I Disappear</td>\n",
       "      <td>0</td>\n",
       "    </tr>\n",
       "    <tr>\n",
       "      <th>2</th>\n",
       "      <td>Good Year, A</td>\n",
       "      <td>1</td>\n",
       "    </tr>\n",
       "    <tr>\n",
       "      <th>3</th>\n",
       "      <td>Brüno</td>\n",
       "      <td>1</td>\n",
       "    </tr>\n",
       "    <tr>\n",
       "      <th>4</th>\n",
       "      <td>How to Lose a Guy in 10 Days</td>\n",
       "      <td>1</td>\n",
       "    </tr>\n",
       "    <tr>\n",
       "      <th>5</th>\n",
       "      <td>Restless</td>\n",
       "      <td>0</td>\n",
       "    </tr>\n",
       "    <tr>\n",
       "      <th>6</th>\n",
       "      <td>Young &amp; Beautiful</td>\n",
       "      <td>0</td>\n",
       "    </tr>\n",
       "    <tr>\n",
       "      <th>7</th>\n",
       "      <td>Iron Man 3</td>\n",
       "      <td>1</td>\n",
       "    </tr>\n",
       "    <tr>\n",
       "      <th>8</th>\n",
       "      <td>Invictus</td>\n",
       "      <td>1</td>\n",
       "    </tr>\n",
       "    <tr>\n",
       "      <th>9</th>\n",
       "      <td>SpongeBob SquarePants Movie, The</td>\n",
       "      <td>1</td>\n",
       "    </tr>\n",
       "  </tbody>\n",
       "</table>\n",
       "</div>"
      ],
      "text/plain": [
       "                               title  predictions\n",
       "0                           Delhi-6             0\n",
       "1                Before I Disappear             0\n",
       "2                      Good Year, A             1\n",
       "3                             Brüno             1\n",
       "4      How to Lose a Guy in 10 Days             1\n",
       "5                          Restless             0\n",
       "6                 Young & Beautiful             0\n",
       "7                        Iron Man 3             1\n",
       "8                          Invictus             1\n",
       "9  SpongeBob SquarePants Movie, The             1"
      ]
     },
     "execution_count": 632,
     "metadata": {},
     "output_type": "execute_result"
    }
   ],
   "source": [
    "submissions.head(10)"
   ]
  },
  {
   "cell_type": "code",
   "execution_count": 633,
   "metadata": {},
   "outputs": [],
   "source": [
    "submissions.to_csv('submissions.csv', index=False)"
   ]
  },
  {
   "cell_type": "markdown",
   "metadata": {},
   "source": [
    "# That's it (:"
   ]
  }
 ],
 "metadata": {
  "kernelspec": {
   "display_name": "Python 3",
   "language": "python",
   "name": "python3"
  },
  "language_info": {
   "codemirror_mode": {
    "name": "ipython",
    "version": 3
   },
   "file_extension": ".py",
   "mimetype": "text/x-python",
   "name": "python",
   "nbconvert_exporter": "python",
   "pygments_lexer": "ipython3",
   "version": "3.7.3"
  }
 },
 "nbformat": 4,
 "nbformat_minor": 4
}
